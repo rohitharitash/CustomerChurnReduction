{
 "cells": [
  {
   "cell_type": "markdown",
   "metadata": {},
   "source": [
    "# Customer Churn Reduction - Logistic Regression\n",
    "In the notebook, we will use logistic regression to predict whether a customer will churn or not. "
   ]
  },
  {
   "cell_type": "markdown",
   "metadata": {},
   "source": [
    "### importing librarires "
   ]
  },
  {
   "cell_type": "code",
   "execution_count": 1,
   "metadata": {},
   "outputs": [],
   "source": [
    "import pandas as pd\n",
    "import numpy as np\n",
    "import seaborn as sns\n",
    "import matplotlib.pyplot as plt\n",
    "from plotnine import *\n",
    "from sklearn.preprocessing import LabelEncoder\n",
    "from sklearn.linear_model import LogisticRegression\n",
    "from sklearn.model_selection import train_test_split, RandomizedSearchCV, GridSearchCV\n",
    "from sklearn.metrics import classification_report\n",
    "from pandas_ml import ConfusionMatrix\n",
    "\n"
   ]
  },
  {
   "cell_type": "code",
   "execution_count": 2,
   "metadata": {},
   "outputs": [],
   "source": [
    "# Read in train and test data\n",
    "train_data = pd.read_csv(\"Train_data.csv\")\n",
    "test_data = pd.read_csv(\"Test_data.csv\")"
   ]
  },
  {
   "cell_type": "code",
   "execution_count": 3,
   "metadata": {},
   "outputs": [],
   "source": [
    "# change column names for ease of use and display first 5 rows\n",
    "train_data.columns = train_data.columns.str.lower().str.replace(' ','_')\n",
    "test_data.columns = test_data.columns.str.lower().str.replace(' ','_')"
   ]
  },
  {
   "cell_type": "code",
   "execution_count": 4,
   "metadata": {},
   "outputs": [
    {
     "name": "stdout",
     "output_type": "stream",
     "text": [
      " number of rows and columns in train data  (3333, 21)\n"
     ]
    }
   ],
   "source": [
    "print(\" number of rows and columns in train data \",train_data.shape)"
   ]
  },
  {
   "cell_type": "code",
   "execution_count": 5,
   "metadata": {},
   "outputs": [
    {
     "name": "stdout",
     "output_type": "stream",
     "text": [
      " number of rows and columns in test data  (1667, 21)\n"
     ]
    }
   ],
   "source": [
    "print(\" number of rows and columns in test data \",test_data.shape)\n",
    "    "
   ]
  },
  {
   "cell_type": "code",
   "execution_count": 6,
   "metadata": {},
   "outputs": [
    {
     "data": {
      "text/html": [
       "<div>\n",
       "<style scoped>\n",
       "    .dataframe tbody tr th:only-of-type {\n",
       "        vertical-align: middle;\n",
       "    }\n",
       "\n",
       "    .dataframe tbody tr th {\n",
       "        vertical-align: top;\n",
       "    }\n",
       "\n",
       "    .dataframe thead th {\n",
       "        text-align: right;\n",
       "    }\n",
       "</style>\n",
       "<table border=\"1\" class=\"dataframe\">\n",
       "  <thead>\n",
       "    <tr style=\"text-align: right;\">\n",
       "      <th></th>\n",
       "      <th>state</th>\n",
       "      <th>account_length</th>\n",
       "      <th>area_code</th>\n",
       "      <th>phone_number</th>\n",
       "      <th>international_plan</th>\n",
       "      <th>voice_mail_plan</th>\n",
       "      <th>number_vmail_messages</th>\n",
       "      <th>total_day_minutes</th>\n",
       "      <th>total_day_calls</th>\n",
       "      <th>total_day_charge</th>\n",
       "      <th>...</th>\n",
       "      <th>total_eve_calls</th>\n",
       "      <th>total_eve_charge</th>\n",
       "      <th>total_night_minutes</th>\n",
       "      <th>total_night_calls</th>\n",
       "      <th>total_night_charge</th>\n",
       "      <th>total_intl_minutes</th>\n",
       "      <th>total_intl_calls</th>\n",
       "      <th>total_intl_charge</th>\n",
       "      <th>number_customer_service_calls</th>\n",
       "      <th>churn</th>\n",
       "    </tr>\n",
       "  </thead>\n",
       "  <tbody>\n",
       "    <tr>\n",
       "      <th>0</th>\n",
       "      <td>KS</td>\n",
       "      <td>128</td>\n",
       "      <td>415</td>\n",
       "      <td>382-4657</td>\n",
       "      <td>no</td>\n",
       "      <td>yes</td>\n",
       "      <td>25</td>\n",
       "      <td>265.1</td>\n",
       "      <td>110</td>\n",
       "      <td>45.07</td>\n",
       "      <td>...</td>\n",
       "      <td>99</td>\n",
       "      <td>16.78</td>\n",
       "      <td>244.7</td>\n",
       "      <td>91</td>\n",
       "      <td>11.01</td>\n",
       "      <td>10.0</td>\n",
       "      <td>3</td>\n",
       "      <td>2.70</td>\n",
       "      <td>1</td>\n",
       "      <td>False.</td>\n",
       "    </tr>\n",
       "    <tr>\n",
       "      <th>1</th>\n",
       "      <td>OH</td>\n",
       "      <td>107</td>\n",
       "      <td>415</td>\n",
       "      <td>371-7191</td>\n",
       "      <td>no</td>\n",
       "      <td>yes</td>\n",
       "      <td>26</td>\n",
       "      <td>161.6</td>\n",
       "      <td>123</td>\n",
       "      <td>27.47</td>\n",
       "      <td>...</td>\n",
       "      <td>103</td>\n",
       "      <td>16.62</td>\n",
       "      <td>254.4</td>\n",
       "      <td>103</td>\n",
       "      <td>11.45</td>\n",
       "      <td>13.7</td>\n",
       "      <td>3</td>\n",
       "      <td>3.70</td>\n",
       "      <td>1</td>\n",
       "      <td>False.</td>\n",
       "    </tr>\n",
       "    <tr>\n",
       "      <th>2</th>\n",
       "      <td>NJ</td>\n",
       "      <td>137</td>\n",
       "      <td>415</td>\n",
       "      <td>358-1921</td>\n",
       "      <td>no</td>\n",
       "      <td>no</td>\n",
       "      <td>0</td>\n",
       "      <td>243.4</td>\n",
       "      <td>114</td>\n",
       "      <td>41.38</td>\n",
       "      <td>...</td>\n",
       "      <td>110</td>\n",
       "      <td>10.30</td>\n",
       "      <td>162.6</td>\n",
       "      <td>104</td>\n",
       "      <td>7.32</td>\n",
       "      <td>12.2</td>\n",
       "      <td>5</td>\n",
       "      <td>3.29</td>\n",
       "      <td>0</td>\n",
       "      <td>False.</td>\n",
       "    </tr>\n",
       "    <tr>\n",
       "      <th>3</th>\n",
       "      <td>OH</td>\n",
       "      <td>84</td>\n",
       "      <td>408</td>\n",
       "      <td>375-9999</td>\n",
       "      <td>yes</td>\n",
       "      <td>no</td>\n",
       "      <td>0</td>\n",
       "      <td>299.4</td>\n",
       "      <td>71</td>\n",
       "      <td>50.90</td>\n",
       "      <td>...</td>\n",
       "      <td>88</td>\n",
       "      <td>5.26</td>\n",
       "      <td>196.9</td>\n",
       "      <td>89</td>\n",
       "      <td>8.86</td>\n",
       "      <td>6.6</td>\n",
       "      <td>7</td>\n",
       "      <td>1.78</td>\n",
       "      <td>2</td>\n",
       "      <td>False.</td>\n",
       "    </tr>\n",
       "    <tr>\n",
       "      <th>4</th>\n",
       "      <td>OK</td>\n",
       "      <td>75</td>\n",
       "      <td>415</td>\n",
       "      <td>330-6626</td>\n",
       "      <td>yes</td>\n",
       "      <td>no</td>\n",
       "      <td>0</td>\n",
       "      <td>166.7</td>\n",
       "      <td>113</td>\n",
       "      <td>28.34</td>\n",
       "      <td>...</td>\n",
       "      <td>122</td>\n",
       "      <td>12.61</td>\n",
       "      <td>186.9</td>\n",
       "      <td>121</td>\n",
       "      <td>8.41</td>\n",
       "      <td>10.1</td>\n",
       "      <td>3</td>\n",
       "      <td>2.73</td>\n",
       "      <td>3</td>\n",
       "      <td>False.</td>\n",
       "    </tr>\n",
       "  </tbody>\n",
       "</table>\n",
       "<p>5 rows × 21 columns</p>\n",
       "</div>"
      ],
      "text/plain": [
       "  state  account_length  area_code phone_number international_plan  \\\n",
       "0    KS             128        415     382-4657                 no   \n",
       "1    OH             107        415     371-7191                 no   \n",
       "2    NJ             137        415     358-1921                 no   \n",
       "3    OH              84        408     375-9999                yes   \n",
       "4    OK              75        415     330-6626                yes   \n",
       "\n",
       "  voice_mail_plan  number_vmail_messages  total_day_minutes  total_day_calls  \\\n",
       "0             yes                     25              265.1              110   \n",
       "1             yes                     26              161.6              123   \n",
       "2              no                      0              243.4              114   \n",
       "3              no                      0              299.4               71   \n",
       "4              no                      0              166.7              113   \n",
       "\n",
       "   total_day_charge   ...     total_eve_calls  total_eve_charge  \\\n",
       "0             45.07   ...                  99             16.78   \n",
       "1             27.47   ...                 103             16.62   \n",
       "2             41.38   ...                 110             10.30   \n",
       "3             50.90   ...                  88              5.26   \n",
       "4             28.34   ...                 122             12.61   \n",
       "\n",
       "   total_night_minutes  total_night_calls  total_night_charge  \\\n",
       "0                244.7                 91               11.01   \n",
       "1                254.4                103               11.45   \n",
       "2                162.6                104                7.32   \n",
       "3                196.9                 89                8.86   \n",
       "4                186.9                121                8.41   \n",
       "\n",
       "   total_intl_minutes  total_intl_calls  total_intl_charge  \\\n",
       "0                10.0                 3               2.70   \n",
       "1                13.7                 3               3.70   \n",
       "2                12.2                 5               3.29   \n",
       "3                 6.6                 7               1.78   \n",
       "4                10.1                 3               2.73   \n",
       "\n",
       "   number_customer_service_calls    churn  \n",
       "0                              1   False.  \n",
       "1                              1   False.  \n",
       "2                              0   False.  \n",
       "3                              2   False.  \n",
       "4                              3   False.  \n",
       "\n",
       "[5 rows x 21 columns]"
      ]
     },
     "execution_count": 6,
     "metadata": {},
     "output_type": "execute_result"
    }
   ],
   "source": [
    "train_data.describe()\n",
    "train_data.head()"
   ]
  },
  {
   "cell_type": "code",
   "execution_count": 7,
   "metadata": {},
   "outputs": [],
   "source": [
    "#removing variables which not helpfull in churn reduction. Using these variables dosn't make sense.\n",
    "#for training data\n",
    "train_data = train_data.drop(['state','area_code','phone_number'], axis = 1)\n",
    "test_data = test_data.drop(['state','area_code','phone_number'], axis = 1)"
   ]
  },
  {
   "cell_type": "code",
   "execution_count": 8,
   "metadata": {},
   "outputs": [
    {
     "data": {
      "text/plain": [
       "account_length                   0\n",
       "international_plan               0\n",
       "voice_mail_plan                  0\n",
       "number_vmail_messages            0\n",
       "total_day_minutes                0\n",
       "total_day_calls                  0\n",
       "total_day_charge                 0\n",
       "total_eve_minutes                0\n",
       "total_eve_calls                  0\n",
       "total_eve_charge                 0\n",
       "total_night_minutes              0\n",
       "total_night_calls                0\n",
       "total_night_charge               0\n",
       "total_intl_minutes               0\n",
       "total_intl_calls                 0\n",
       "total_intl_charge                0\n",
       "number_customer_service_calls    0\n",
       "churn                            0\n",
       "dtype: int64"
      ]
     },
     "execution_count": 8,
     "metadata": {},
     "output_type": "execute_result"
    }
   ],
   "source": [
    "# checking for missing values in train\n",
    "train_data.isnull().sum()"
   ]
  },
  {
   "cell_type": "code",
   "execution_count": 9,
   "metadata": {},
   "outputs": [
    {
     "data": {
      "text/plain": [
       "account_length                   0\n",
       "international_plan               0\n",
       "voice_mail_plan                  0\n",
       "number_vmail_messages            0\n",
       "total_day_minutes                0\n",
       "total_day_calls                  0\n",
       "total_day_charge                 0\n",
       "total_eve_minutes                0\n",
       "total_eve_calls                  0\n",
       "total_eve_charge                 0\n",
       "total_night_minutes              0\n",
       "total_night_calls                0\n",
       "total_night_charge               0\n",
       "total_intl_minutes               0\n",
       "total_intl_calls                 0\n",
       "total_intl_charge                0\n",
       "number_customer_service_calls    0\n",
       "churn                            0\n",
       "dtype: int64"
      ]
     },
     "execution_count": 9,
     "metadata": {},
     "output_type": "execute_result"
    }
   ],
   "source": [
    "# checking for missing values in test dataset\n",
    "test_data.isnull().sum()"
   ]
  },
  {
   "cell_type": "markdown",
   "metadata": {},
   "source": [
    "##### There are no missing values in train and test data."
   ]
  },
  {
   "cell_type": "markdown",
   "metadata": {},
   "source": [
    "Now looking at target variable.\n",
    "churn: This is the target variable. Churn is defined as whether the customer leaves the services or not. churn = True means customer left ,churn = false means customer stays"
   ]
  },
  {
   "cell_type": "code",
   "execution_count": 10,
   "metadata": {},
   "outputs": [
    {
     "data": {
      "text/plain": [
       "Text(0.5,0,'Customer churn')"
      ]
     },
     "execution_count": 10,
     "metadata": {},
     "output_type": "execute_result"
    },
    {
     "data": {
      "image/png": "[encoded data removed]",
      "text/plain": [
       "<Figure size 576x432 with 1 Axes>"
      ]
     },
     "metadata": {},
     "output_type": "display_data"
    }
   ],
   "source": [
    "plt.figure(figsize=(8,6))\n",
    "sns.set_style('ticks')\n",
    "sns.countplot(train_data.churn,palette='summer')\n",
    "plt.xlabel('Customer churn')\n"
   ]
  },
  {
   "cell_type": "code",
   "execution_count": 11,
   "metadata": {},
   "outputs": [
    {
     "data": {
      "image/png": "[encoded data removed]",
      "text/plain": [
       "<Figure size 600x400 with 1 Axes>"
      ]
     },
     "metadata": {},
     "output_type": "display_data"
    },
    {
     "data": {
      "text/plain": [
       "<ggplot: (-9223371887803894142)>"
      ]
     },
     "execution_count": 11,
     "metadata": {},
     "output_type": "execute_result"
    }
   ],
   "source": [
    "# churn ratio of customers with and without internation plan\n",
    "ggplot(train_data) + \\\n",
    "    aes('international_plan', fill = 'churn') +\\\n",
    "    geom_bar(position = \"fill\", color= 'blue') + labs(x = \"International plan\", y = \"\") + \\\n",
    "    ggtitle(\"Churn ratio of customers with and without international plan\") + \\\n",
    "    theme(figure_size=(6, 4))"
   ]
  },
  {
   "cell_type": "markdown",
   "metadata": {},
   "source": [
    "#### Customers with international plan are churning out more as compare to domestic customers. "
   ]
  },
  {
   "cell_type": "code",
   "execution_count": 12,
   "metadata": {},
   "outputs": [
    {
     "data": {
      "image/png": "[encoded data removed]",
      "text/plain": [
       "<Figure size 600x400 with 1 Axes>"
      ]
     },
     "metadata": {},
     "output_type": "display_data"
    },
    {
     "data": {
      "text/plain": [
       "<ggplot: (-9223371887803842216)>"
      ]
     },
     "execution_count": 12,
     "metadata": {},
     "output_type": "execute_result"
    }
   ],
   "source": [
    "# churn ratio of customers with voice_mail_plan\n",
    "ggplot(train_data) + \\\n",
    "    aes('voice_mail_plan', fill = 'churn') +\\\n",
    "    geom_bar(position = \"fill\", color = 'blue') + \\\n",
    "    labs(x =  \"voice mail plan\", y = \"\") + \\\n",
    "    ggtitle(\"Churn ratio with customers with and without voice mail plan\") + \\\n",
    "    theme(figure_size=(6, 4))"
   ]
  },
  {
   "cell_type": "markdown",
   "metadata": {},
   "source": [
    "#### Customers without voice mail plan are churning out more as compare to customers with voice mail plan."
   ]
  },
  {
   "cell_type": "code",
   "execution_count": 13,
   "metadata": {},
   "outputs": [
    {
     "data": {
      "image/png": "[encoded data removed]",
      "text/plain": [
       "<Figure size 600x400 with 1 Axes>"
      ]
     },
     "metadata": {},
     "output_type": "display_data"
    },
    {
     "data": {
      "text/plain": [
       "<ggplot: (-9223371887803824303)>"
      ]
     },
     "execution_count": 13,
     "metadata": {},
     "output_type": "execute_result"
    }
   ],
   "source": [
    "# # churn ratio of customers with respect to service calls\n",
    "ggplot(train_data) + \\\n",
    "    aes('number_customer_service_calls', fill = 'churn') +\\\n",
    "    geom_bar(position = \"fill\", color = 'blue') + \\\n",
    "    labs(x = \"Customer service calls\", y = \"\")  + \\\n",
    "    ggtitle(\" Churn ratio with service call frequency\") + \\\n",
    "    theme(figure_size=(6, 4))"
   ]
  },
  {
   "cell_type": "markdown",
   "metadata": {},
   "source": [
    "#### customers with higher service calls ie > 3 are churning out more."
   ]
  },
  {
   "cell_type": "markdown",
   "metadata": {},
   "source": [
    "### 3. Correlation matrix for continous predictors"
   ]
  },
  {
   "cell_type": "code",
   "execution_count": 14,
   "metadata": {
    "scrolled": false
   },
   "outputs": [
    {
     "data": {
      "text/html": [
       "<style  type=\"text/css\" >\n",
       "    #T_69c6cc28_6374_11e8_8bbe_94dbc998ecfc th {\n",
       "          font-size: 7pt;\n",
       "    }    #T_69c6cc28_6374_11e8_8bbe_94dbc998ecfc td {\n",
       "          padding: 0em 0em;\n",
       "    }    #T_69c6cc28_6374_11e8_8bbe_94dbc998ecfc th:hover {\n",
       "          font-size: 12pt;\n",
       "    }    #T_69c6cc28_6374_11e8_8bbe_94dbc998ecfc tr:hover td:hover {\n",
       "          max-width: 200px;\n",
       "          font-size: 12pt;\n",
       "    }    #T_69c6cc28_6374_11e8_8bbe_94dbc998ecfcrow0_col0 {\n",
       "            background-color:  #4479bb;\n",
       "            max-width:  90px;\n",
       "            font-size:  10pt;\n",
       "        }    #T_69c6cc28_6374_11e8_8bbe_94dbc998ecfcrow0_col1 {\n",
       "            background-color:  #d83e5d;\n",
       "            max-width:  90px;\n",
       "            font-size:  10pt;\n",
       "        }    #T_69c6cc28_6374_11e8_8bbe_94dbc998ecfcrow0_col2 {\n",
       "            background-color:  #d8415f;\n",
       "            max-width:  90px;\n",
       "            font-size:  10pt;\n",
       "        }    #T_69c6cc28_6374_11e8_8bbe_94dbc998ecfcrow0_col3 {\n",
       "            background-color:  #db4e6a;\n",
       "            max-width:  90px;\n",
       "            font-size:  10pt;\n",
       "        }    #T_69c6cc28_6374_11e8_8bbe_94dbc998ecfcrow0_col4 {\n",
       "            background-color:  #d8415f;\n",
       "            max-width:  90px;\n",
       "            font-size:  10pt;\n",
       "        }    #T_69c6cc28_6374_11e8_8bbe_94dbc998ecfcrow0_col5 {\n",
       "            background-color:  #d73d5c;\n",
       "            max-width:  90px;\n",
       "            font-size:  10pt;\n",
       "        }    #T_69c6cc28_6374_11e8_8bbe_94dbc998ecfcrow0_col6 {\n",
       "            background-color:  #d94764;\n",
       "            max-width:  90px;\n",
       "            font-size:  10pt;\n",
       "        }    #T_69c6cc28_6374_11e8_8bbe_94dbc998ecfcrow0_col7 {\n",
       "            background-color:  #d73d5c;\n",
       "            max-width:  90px;\n",
       "            font-size:  10pt;\n",
       "        }    #T_69c6cc28_6374_11e8_8bbe_94dbc998ecfcrow0_col8 {\n",
       "            background-color:  #d73d5c;\n",
       "            max-width:  90px;\n",
       "            font-size:  10pt;\n",
       "        }    #T_69c6cc28_6374_11e8_8bbe_94dbc998ecfcrow0_col9 {\n",
       "            background-color:  #d73c5b;\n",
       "            max-width:  90px;\n",
       "            font-size:  10pt;\n",
       "        }    #T_69c6cc28_6374_11e8_8bbe_94dbc998ecfcrow0_col10 {\n",
       "            background-color:  #d73d5c;\n",
       "            max-width:  90px;\n",
       "            font-size:  10pt;\n",
       "        }    #T_69c6cc28_6374_11e8_8bbe_94dbc998ecfcrow0_col11 {\n",
       "            background-color:  #d94261;\n",
       "            max-width:  90px;\n",
       "            font-size:  10pt;\n",
       "        }    #T_69c6cc28_6374_11e8_8bbe_94dbc998ecfcrow0_col12 {\n",
       "            background-color:  #d94764;\n",
       "            max-width:  90px;\n",
       "            font-size:  10pt;\n",
       "        }    #T_69c6cc28_6374_11e8_8bbe_94dbc998ecfcrow0_col13 {\n",
       "            background-color:  #d94261;\n",
       "            max-width:  90px;\n",
       "            font-size:  10pt;\n",
       "        }    #T_69c6cc28_6374_11e8_8bbe_94dbc998ecfcrow0_col14 {\n",
       "            background-color:  #d83e5d;\n",
       "            max-width:  90px;\n",
       "            font-size:  10pt;\n",
       "        }    #T_69c6cc28_6374_11e8_8bbe_94dbc998ecfcrow1_col0 {\n",
       "            background-color:  #d83e5d;\n",
       "            max-width:  90px;\n",
       "            font-size:  10pt;\n",
       "        }    #T_69c6cc28_6374_11e8_8bbe_94dbc998ecfcrow1_col1 {\n",
       "            background-color:  #4479bb;\n",
       "            max-width:  90px;\n",
       "            font-size:  10pt;\n",
       "        }    #T_69c6cc28_6374_11e8_8bbe_94dbc998ecfcrow1_col2 {\n",
       "            background-color:  #d8405e;\n",
       "            max-width:  90px;\n",
       "            font-size:  10pt;\n",
       "        }    #T_69c6cc28_6374_11e8_8bbe_94dbc998ecfcrow1_col3 {\n",
       "            background-color:  #d73c5b;\n",
       "            max-width:  90px;\n",
       "            font-size:  10pt;\n",
       "        }    #T_69c6cc28_6374_11e8_8bbe_94dbc998ecfcrow1_col4 {\n",
       "            background-color:  #d8405e;\n",
       "            max-width:  90px;\n",
       "            font-size:  10pt;\n",
       "        }    #T_69c6cc28_6374_11e8_8bbe_94dbc998ecfcrow1_col5 {\n",
       "            background-color:  #d94563;\n",
       "            max-width:  90px;\n",
       "            font-size:  10pt;\n",
       "        }    #T_69c6cc28_6374_11e8_8bbe_94dbc998ecfcrow1_col6 {\n",
       "            background-color:  #d73d5c;\n",
       "            max-width:  90px;\n",
       "            font-size:  10pt;\n",
       "        }    #T_69c6cc28_6374_11e8_8bbe_94dbc998ecfcrow1_col7 {\n",
       "            background-color:  #d94563;\n",
       "            max-width:  90px;\n",
       "            font-size:  10pt;\n",
       "        }    #T_69c6cc28_6374_11e8_8bbe_94dbc998ecfcrow1_col8 {\n",
       "            background-color:  #d94261;\n",
       "            max-width:  90px;\n",
       "            font-size:  10pt;\n",
       "        }    #T_69c6cc28_6374_11e8_8bbe_94dbc998ecfcrow1_col9 {\n",
       "            background-color:  #d94261;\n",
       "            max-width:  90px;\n",
       "            font-size:  10pt;\n",
       "        }    #T_69c6cc28_6374_11e8_8bbe_94dbc998ecfcrow1_col10 {\n",
       "            background-color:  #d94261;\n",
       "            max-width:  90px;\n",
       "            font-size:  10pt;\n",
       "        }    #T_69c6cc28_6374_11e8_8bbe_94dbc998ecfcrow1_col11 {\n",
       "            background-color:  #d8415f;\n",
       "            max-width:  90px;\n",
       "            font-size:  10pt;\n",
       "        }    #T_69c6cc28_6374_11e8_8bbe_94dbc998ecfcrow1_col12 {\n",
       "            background-color:  #d94462;\n",
       "            max-width:  90px;\n",
       "            font-size:  10pt;\n",
       "        }    #T_69c6cc28_6374_11e8_8bbe_94dbc998ecfcrow1_col13 {\n",
       "            background-color:  #d8415f;\n",
       "            max-width:  90px;\n",
       "            font-size:  10pt;\n",
       "        }    #T_69c6cc28_6374_11e8_8bbe_94dbc998ecfcrow1_col14 {\n",
       "            background-color:  #d73c5b;\n",
       "            max-width:  90px;\n",
       "            font-size:  10pt;\n",
       "        }    #T_69c6cc28_6374_11e8_8bbe_94dbc998ecfcrow2_col0 {\n",
       "            background-color:  #d8415f;\n",
       "            max-width:  90px;\n",
       "            font-size:  10pt;\n",
       "        }    #T_69c6cc28_6374_11e8_8bbe_94dbc998ecfcrow2_col1 {\n",
       "            background-color:  #d8405e;\n",
       "            max-width:  90px;\n",
       "            font-size:  10pt;\n",
       "        }    #T_69c6cc28_6374_11e8_8bbe_94dbc998ecfcrow2_col2 {\n",
       "            background-color:  #4479bb;\n",
       "            max-width:  90px;\n",
       "            font-size:  10pt;\n",
       "        }    #T_69c6cc28_6374_11e8_8bbe_94dbc998ecfcrow2_col3 {\n",
       "            background-color:  #d94261;\n",
       "            max-width:  90px;\n",
       "            font-size:  10pt;\n",
       "        }    #T_69c6cc28_6374_11e8_8bbe_94dbc998ecfcrow2_col4 {\n",
       "            background-color:  #4479bb;\n",
       "            max-width:  90px;\n",
       "            font-size:  10pt;\n",
       "        }    #T_69c6cc28_6374_11e8_8bbe_94dbc998ecfcrow2_col5 {\n",
       "            background-color:  #d94261;\n",
       "            max-width:  90px;\n",
       "            font-size:  10pt;\n",
       "        }    #T_69c6cc28_6374_11e8_8bbe_94dbc998ecfcrow2_col6 {\n",
       "            background-color:  #d94563;\n",
       "            max-width:  90px;\n",
       "            font-size:  10pt;\n",
       "        }    #T_69c6cc28_6374_11e8_8bbe_94dbc998ecfcrow2_col7 {\n",
       "            background-color:  #d94261;\n",
       "            max-width:  90px;\n",
       "            font-size:  10pt;\n",
       "        }    #T_69c6cc28_6374_11e8_8bbe_94dbc998ecfcrow2_col8 {\n",
       "            background-color:  #d8415f;\n",
       "            max-width:  90px;\n",
       "            font-size:  10pt;\n",
       "        }    #T_69c6cc28_6374_11e8_8bbe_94dbc998ecfcrow2_col9 {\n",
       "            background-color:  #da4865;\n",
       "            max-width:  90px;\n",
       "            font-size:  10pt;\n",
       "        }    #T_69c6cc28_6374_11e8_8bbe_94dbc998ecfcrow2_col10 {\n",
       "            background-color:  #d8415f;\n",
       "            max-width:  90px;\n",
       "            font-size:  10pt;\n",
       "        }    #T_69c6cc28_6374_11e8_8bbe_94dbc998ecfcrow2_col11 {\n",
       "            background-color:  #d73c5b;\n",
       "            max-width:  90px;\n",
       "            font-size:  10pt;\n",
       "        }    #T_69c6cc28_6374_11e8_8bbe_94dbc998ecfcrow2_col12 {\n",
       "            background-color:  #d94261;\n",
       "            max-width:  90px;\n",
       "            font-size:  10pt;\n",
       "        }    #T_69c6cc28_6374_11e8_8bbe_94dbc998ecfcrow2_col13 {\n",
       "            background-color:  #d73c5b;\n",
       "            max-width:  90px;\n",
       "            font-size:  10pt;\n",
       "        }    #T_69c6cc28_6374_11e8_8bbe_94dbc998ecfcrow2_col14 {\n",
       "            background-color:  #d73c5b;\n",
       "            max-width:  90px;\n",
       "            font-size:  10pt;\n",
       "        }    #T_69c6cc28_6374_11e8_8bbe_94dbc998ecfcrow3_col0 {\n",
       "            background-color:  #dc516d;\n",
       "            max-width:  90px;\n",
       "            font-size:  10pt;\n",
       "        }    #T_69c6cc28_6374_11e8_8bbe_94dbc998ecfcrow3_col1 {\n",
       "            background-color:  #d83e5d;\n",
       "            max-width:  90px;\n",
       "            font-size:  10pt;\n",
       "        }    #T_69c6cc28_6374_11e8_8bbe_94dbc998ecfcrow3_col2 {\n",
       "            background-color:  #d94563;\n",
       "            max-width:  90px;\n",
       "            font-size:  10pt;\n",
       "        }    #T_69c6cc28_6374_11e8_8bbe_94dbc998ecfcrow3_col3 {\n",
       "            background-color:  #4479bb;\n",
       "            max-width:  90px;\n",
       "            font-size:  10pt;\n",
       "        }    #T_69c6cc28_6374_11e8_8bbe_94dbc998ecfcrow3_col4 {\n",
       "            background-color:  #d94563;\n",
       "            max-width:  90px;\n",
       "            font-size:  10pt;\n",
       "        }    #T_69c6cc28_6374_11e8_8bbe_94dbc998ecfcrow3_col5 {\n",
       "            background-color:  #d73c5b;\n",
       "            max-width:  90px;\n",
       "            font-size:  10pt;\n",
       "        }    #T_69c6cc28_6374_11e8_8bbe_94dbc998ecfcrow3_col6 {\n",
       "            background-color:  #d94462;\n",
       "            max-width:  90px;\n",
       "            font-size:  10pt;\n",
       "        }    #T_69c6cc28_6374_11e8_8bbe_94dbc998ecfcrow3_col7 {\n",
       "            background-color:  #d73c5b;\n",
       "            max-width:  90px;\n",
       "            font-size:  10pt;\n",
       "        }    #T_69c6cc28_6374_11e8_8bbe_94dbc998ecfcrow3_col8 {\n",
       "            background-color:  #da4b68;\n",
       "            max-width:  90px;\n",
       "            font-size:  10pt;\n",
       "        }    #T_69c6cc28_6374_11e8_8bbe_94dbc998ecfcrow3_col9 {\n",
       "            background-color:  #d73c5b;\n",
       "            max-width:  90px;\n",
       "            font-size:  10pt;\n",
       "        }    #T_69c6cc28_6374_11e8_8bbe_94dbc998ecfcrow3_col10 {\n",
       "            background-color:  #da4b68;\n",
       "            max-width:  90px;\n",
       "            font-size:  10pt;\n",
       "        }    #T_69c6cc28_6374_11e8_8bbe_94dbc998ecfcrow3_col11 {\n",
       "            background-color:  #da4966;\n",
       "            max-width:  90px;\n",
       "            font-size:  10pt;\n",
       "        }    #T_69c6cc28_6374_11e8_8bbe_94dbc998ecfcrow3_col12 {\n",
       "            background-color:  #d94462;\n",
       "            max-width:  90px;\n",
       "            font-size:  10pt;\n",
       "        }    #T_69c6cc28_6374_11e8_8bbe_94dbc998ecfcrow3_col13 {\n",
       "            background-color:  #da4966;\n",
       "            max-width:  90px;\n",
       "            font-size:  10pt;\n",
       "        }    #T_69c6cc28_6374_11e8_8bbe_94dbc998ecfcrow3_col14 {\n",
       "            background-color:  #d73c5b;\n",
       "            max-width:  90px;\n",
       "            font-size:  10pt;\n",
       "        }    #T_69c6cc28_6374_11e8_8bbe_94dbc998ecfcrow4_col0 {\n",
       "            background-color:  #d8415f;\n",
       "            max-width:  90px;\n",
       "            font-size:  10pt;\n",
       "        }    #T_69c6cc28_6374_11e8_8bbe_94dbc998ecfcrow4_col1 {\n",
       "            background-color:  #d8405e;\n",
       "            max-width:  90px;\n",
       "            font-size:  10pt;\n",
       "        }    #T_69c6cc28_6374_11e8_8bbe_94dbc998ecfcrow4_col2 {\n",
       "            background-color:  #4479bb;\n",
       "            max-width:  90px;\n",
       "            font-size:  10pt;\n",
       "        }    #T_69c6cc28_6374_11e8_8bbe_94dbc998ecfcrow4_col3 {\n",
       "            background-color:  #d94261;\n",
       "            max-width:  90px;\n",
       "            font-size:  10pt;\n",
       "        }    #T_69c6cc28_6374_11e8_8bbe_94dbc998ecfcrow4_col4 {\n",
       "            background-color:  #4479bb;\n",
       "            max-width:  90px;\n",
       "            font-size:  10pt;\n",
       "        }    #T_69c6cc28_6374_11e8_8bbe_94dbc998ecfcrow4_col5 {\n",
       "            background-color:  #d94261;\n",
       "            max-width:  90px;\n",
       "            font-size:  10pt;\n",
       "        }    #T_69c6cc28_6374_11e8_8bbe_94dbc998ecfcrow4_col6 {\n",
       "            background-color:  #d94563;\n",
       "            max-width:  90px;\n",
       "            font-size:  10pt;\n",
       "        }    #T_69c6cc28_6374_11e8_8bbe_94dbc998ecfcrow4_col7 {\n",
       "            background-color:  #d94261;\n",
       "            max-width:  90px;\n",
       "            font-size:  10pt;\n",
       "        }    #T_69c6cc28_6374_11e8_8bbe_94dbc998ecfcrow4_col8 {\n",
       "            background-color:  #d8415f;\n",
       "            max-width:  90px;\n",
       "            font-size:  10pt;\n",
       "        }    #T_69c6cc28_6374_11e8_8bbe_94dbc998ecfcrow4_col9 {\n",
       "            background-color:  #da4865;\n",
       "            max-width:  90px;\n",
       "            font-size:  10pt;\n",
       "        }    #T_69c6cc28_6374_11e8_8bbe_94dbc998ecfcrow4_col10 {\n",
       "            background-color:  #d8415f;\n",
       "            max-width:  90px;\n",
       "            font-size:  10pt;\n",
       "        }    #T_69c6cc28_6374_11e8_8bbe_94dbc998ecfcrow4_col11 {\n",
       "            background-color:  #d73c5b;\n",
       "            max-width:  90px;\n",
       "            font-size:  10pt;\n",
       "        }    #T_69c6cc28_6374_11e8_8bbe_94dbc998ecfcrow4_col12 {\n",
       "            background-color:  #d94261;\n",
       "            max-width:  90px;\n",
       "            font-size:  10pt;\n",
       "        }    #T_69c6cc28_6374_11e8_8bbe_94dbc998ecfcrow4_col13 {\n",
       "            background-color:  #d73c5b;\n",
       "            max-width:  90px;\n",
       "            font-size:  10pt;\n",
       "        }    #T_69c6cc28_6374_11e8_8bbe_94dbc998ecfcrow4_col14 {\n",
       "            background-color:  #d73c5b;\n",
       "            max-width:  90px;\n",
       "            font-size:  10pt;\n",
       "        }    #T_69c6cc28_6374_11e8_8bbe_94dbc998ecfcrow5_col0 {\n",
       "            background-color:  #d8405e;\n",
       "            max-width:  90px;\n",
       "            font-size:  10pt;\n",
       "        }    #T_69c6cc28_6374_11e8_8bbe_94dbc998ecfcrow5_col1 {\n",
       "            background-color:  #da4865;\n",
       "            max-width:  90px;\n",
       "            font-size:  10pt;\n",
       "        }    #T_69c6cc28_6374_11e8_8bbe_94dbc998ecfcrow5_col2 {\n",
       "            background-color:  #d94563;\n",
       "            max-width:  90px;\n",
       "            font-size:  10pt;\n",
       "        }    #T_69c6cc28_6374_11e8_8bbe_94dbc998ecfcrow5_col3 {\n",
       "            background-color:  #d73c5b;\n",
       "            max-width:  90px;\n",
       "            font-size:  10pt;\n",
       "        }    #T_69c6cc28_6374_11e8_8bbe_94dbc998ecfcrow5_col4 {\n",
       "            background-color:  #d94563;\n",
       "            max-width:  90px;\n",
       "            font-size:  10pt;\n",
       "        }    #T_69c6cc28_6374_11e8_8bbe_94dbc998ecfcrow5_col5 {\n",
       "            background-color:  #4479bb;\n",
       "            max-width:  90px;\n",
       "            font-size:  10pt;\n",
       "        }    #T_69c6cc28_6374_11e8_8bbe_94dbc998ecfcrow5_col6 {\n",
       "            background-color:  #d83e5d;\n",
       "            max-width:  90px;\n",
       "            font-size:  10pt;\n",
       "        }    #T_69c6cc28_6374_11e8_8bbe_94dbc998ecfcrow5_col7 {\n",
       "            background-color:  #4479bb;\n",
       "            max-width:  90px;\n",
       "            font-size:  10pt;\n",
       "        }    #T_69c6cc28_6374_11e8_8bbe_94dbc998ecfcrow5_col8 {\n",
       "            background-color:  #d83e5d;\n",
       "            max-width:  90px;\n",
       "            font-size:  10pt;\n",
       "        }    #T_69c6cc28_6374_11e8_8bbe_94dbc998ecfcrow5_col9 {\n",
       "            background-color:  #d94563;\n",
       "            max-width:  90px;\n",
       "            font-size:  10pt;\n",
       "        }    #T_69c6cc28_6374_11e8_8bbe_94dbc998ecfcrow5_col10 {\n",
       "            background-color:  #d83e5d;\n",
       "            max-width:  90px;\n",
       "            font-size:  10pt;\n",
       "        }    #T_69c6cc28_6374_11e8_8bbe_94dbc998ecfcrow5_col11 {\n",
       "            background-color:  #d83e5d;\n",
       "            max-width:  90px;\n",
       "            font-size:  10pt;\n",
       "        }    #T_69c6cc28_6374_11e8_8bbe_94dbc998ecfcrow5_col12 {\n",
       "            background-color:  #d94462;\n",
       "            max-width:  90px;\n",
       "            font-size:  10pt;\n",
       "        }    #T_69c6cc28_6374_11e8_8bbe_94dbc998ecfcrow5_col13 {\n",
       "            background-color:  #d83e5d;\n",
       "            max-width:  90px;\n",
       "            font-size:  10pt;\n",
       "        }    #T_69c6cc28_6374_11e8_8bbe_94dbc998ecfcrow5_col14 {\n",
       "            background-color:  #d83e5d;\n",
       "            max-width:  90px;\n",
       "            font-size:  10pt;\n",
       "        }    #T_69c6cc28_6374_11e8_8bbe_94dbc998ecfcrow6_col0 {\n",
       "            background-color:  #d94563;\n",
       "            max-width:  90px;\n",
       "            font-size:  10pt;\n",
       "        }    #T_69c6cc28_6374_11e8_8bbe_94dbc998ecfcrow6_col1 {\n",
       "            background-color:  #d73d5c;\n",
       "            max-width:  90px;\n",
       "            font-size:  10pt;\n",
       "        }    #T_69c6cc28_6374_11e8_8bbe_94dbc998ecfcrow6_col2 {\n",
       "            background-color:  #d94462;\n",
       "            max-width:  90px;\n",
       "            font-size:  10pt;\n",
       "        }    #T_69c6cc28_6374_11e8_8bbe_94dbc998ecfcrow6_col3 {\n",
       "            background-color:  #d8415f;\n",
       "            max-width:  90px;\n",
       "            font-size:  10pt;\n",
       "        }    #T_69c6cc28_6374_11e8_8bbe_94dbc998ecfcrow6_col4 {\n",
       "            background-color:  #d94462;\n",
       "            max-width:  90px;\n",
       "            font-size:  10pt;\n",
       "        }    #T_69c6cc28_6374_11e8_8bbe_94dbc998ecfcrow6_col5 {\n",
       "            background-color:  #d73c5b;\n",
       "            max-width:  90px;\n",
       "            font-size:  10pt;\n",
       "        }    #T_69c6cc28_6374_11e8_8bbe_94dbc998ecfcrow6_col6 {\n",
       "            background-color:  #4479bb;\n",
       "            max-width:  90px;\n",
       "            font-size:  10pt;\n",
       "        }    #T_69c6cc28_6374_11e8_8bbe_94dbc998ecfcrow6_col7 {\n",
       "            background-color:  #d73c5b;\n",
       "            max-width:  90px;\n",
       "            font-size:  10pt;\n",
       "        }    #T_69c6cc28_6374_11e8_8bbe_94dbc998ecfcrow6_col8 {\n",
       "            background-color:  #d83e5d;\n",
       "            max-width:  90px;\n",
       "            font-size:  10pt;\n",
       "        }    #T_69c6cc28_6374_11e8_8bbe_94dbc998ecfcrow6_col9 {\n",
       "            background-color:  #d8415f;\n",
       "            max-width:  90px;\n",
       "            font-size:  10pt;\n",
       "        }    #T_69c6cc28_6374_11e8_8bbe_94dbc998ecfcrow6_col10 {\n",
       "            background-color:  #d83e5d;\n",
       "            max-width:  90px;\n",
       "            font-size:  10pt;\n",
       "        }    #T_69c6cc28_6374_11e8_8bbe_94dbc998ecfcrow6_col11 {\n",
       "            background-color:  #d94261;\n",
       "            max-width:  90px;\n",
       "            font-size:  10pt;\n",
       "        }    #T_69c6cc28_6374_11e8_8bbe_94dbc998ecfcrow6_col12 {\n",
       "            background-color:  #d94563;\n",
       "            max-width:  90px;\n",
       "            font-size:  10pt;\n",
       "        }    #T_69c6cc28_6374_11e8_8bbe_94dbc998ecfcrow6_col13 {\n",
       "            background-color:  #d94261;\n",
       "            max-width:  90px;\n",
       "            font-size:  10pt;\n",
       "        }    #T_69c6cc28_6374_11e8_8bbe_94dbc998ecfcrow6_col14 {\n",
       "            background-color:  #d8405e;\n",
       "            max-width:  90px;\n",
       "            font-size:  10pt;\n",
       "        }    #T_69c6cc28_6374_11e8_8bbe_94dbc998ecfcrow7_col0 {\n",
       "            background-color:  #d8405e;\n",
       "            max-width:  90px;\n",
       "            font-size:  10pt;\n",
       "        }    #T_69c6cc28_6374_11e8_8bbe_94dbc998ecfcrow7_col1 {\n",
       "            background-color:  #da4865;\n",
       "            max-width:  90px;\n",
       "            font-size:  10pt;\n",
       "        }    #T_69c6cc28_6374_11e8_8bbe_94dbc998ecfcrow7_col2 {\n",
       "            background-color:  #d94563;\n",
       "            max-width:  90px;\n",
       "            font-size:  10pt;\n",
       "        }    #T_69c6cc28_6374_11e8_8bbe_94dbc998ecfcrow7_col3 {\n",
       "            background-color:  #d73c5b;\n",
       "            max-width:  90px;\n",
       "            font-size:  10pt;\n",
       "        }    #T_69c6cc28_6374_11e8_8bbe_94dbc998ecfcrow7_col4 {\n",
       "            background-color:  #d94563;\n",
       "            max-width:  90px;\n",
       "            font-size:  10pt;\n",
       "        }    #T_69c6cc28_6374_11e8_8bbe_94dbc998ecfcrow7_col5 {\n",
       "            background-color:  #4479bb;\n",
       "            max-width:  90px;\n",
       "            font-size:  10pt;\n",
       "        }    #T_69c6cc28_6374_11e8_8bbe_94dbc998ecfcrow7_col6 {\n",
       "            background-color:  #d83e5d;\n",
       "            max-width:  90px;\n",
       "            font-size:  10pt;\n",
       "        }    #T_69c6cc28_6374_11e8_8bbe_94dbc998ecfcrow7_col7 {\n",
       "            background-color:  #4479bb;\n",
       "            max-width:  90px;\n",
       "            font-size:  10pt;\n",
       "        }    #T_69c6cc28_6374_11e8_8bbe_94dbc998ecfcrow7_col8 {\n",
       "            background-color:  #d83e5d;\n",
       "            max-width:  90px;\n",
       "            font-size:  10pt;\n",
       "        }    #T_69c6cc28_6374_11e8_8bbe_94dbc998ecfcrow7_col9 {\n",
       "            background-color:  #d94563;\n",
       "            max-width:  90px;\n",
       "            font-size:  10pt;\n",
       "        }    #T_69c6cc28_6374_11e8_8bbe_94dbc998ecfcrow7_col10 {\n",
       "            background-color:  #d83e5d;\n",
       "            max-width:  90px;\n",
       "            font-size:  10pt;\n",
       "        }    #T_69c6cc28_6374_11e8_8bbe_94dbc998ecfcrow7_col11 {\n",
       "            background-color:  #d83e5d;\n",
       "            max-width:  90px;\n",
       "            font-size:  10pt;\n",
       "        }    #T_69c6cc28_6374_11e8_8bbe_94dbc998ecfcrow7_col12 {\n",
       "            background-color:  #d94462;\n",
       "            max-width:  90px;\n",
       "            font-size:  10pt;\n",
       "        }    #T_69c6cc28_6374_11e8_8bbe_94dbc998ecfcrow7_col13 {\n",
       "            background-color:  #d83e5d;\n",
       "            max-width:  90px;\n",
       "            font-size:  10pt;\n",
       "        }    #T_69c6cc28_6374_11e8_8bbe_94dbc998ecfcrow7_col14 {\n",
       "            background-color:  #d83e5d;\n",
       "            max-width:  90px;\n",
       "            font-size:  10pt;\n",
       "        }    #T_69c6cc28_6374_11e8_8bbe_94dbc998ecfcrow8_col0 {\n",
       "            background-color:  #d73d5c;\n",
       "            max-width:  90px;\n",
       "            font-size:  10pt;\n",
       "        }    #T_69c6cc28_6374_11e8_8bbe_94dbc998ecfcrow8_col1 {\n",
       "            background-color:  #d94261;\n",
       "            max-width:  90px;\n",
       "            font-size:  10pt;\n",
       "        }    #T_69c6cc28_6374_11e8_8bbe_94dbc998ecfcrow8_col2 {\n",
       "            background-color:  #d8415f;\n",
       "            max-width:  90px;\n",
       "            font-size:  10pt;\n",
       "        }    #T_69c6cc28_6374_11e8_8bbe_94dbc998ecfcrow8_col3 {\n",
       "            background-color:  #da4865;\n",
       "            max-width:  90px;\n",
       "            font-size:  10pt;\n",
       "        }    #T_69c6cc28_6374_11e8_8bbe_94dbc998ecfcrow8_col4 {\n",
       "            background-color:  #d8415f;\n",
       "            max-width:  90px;\n",
       "            font-size:  10pt;\n",
       "        }    #T_69c6cc28_6374_11e8_8bbe_94dbc998ecfcrow8_col5 {\n",
       "            background-color:  #d73c5b;\n",
       "            max-width:  90px;\n",
       "            font-size:  10pt;\n",
       "        }    #T_69c6cc28_6374_11e8_8bbe_94dbc998ecfcrow8_col6 {\n",
       "            background-color:  #d8405e;\n",
       "            max-width:  90px;\n",
       "            font-size:  10pt;\n",
       "        }    #T_69c6cc28_6374_11e8_8bbe_94dbc998ecfcrow8_col7 {\n",
       "            background-color:  #d73c5b;\n",
       "            max-width:  90px;\n",
       "            font-size:  10pt;\n",
       "        }    #T_69c6cc28_6374_11e8_8bbe_94dbc998ecfcrow8_col8 {\n",
       "            background-color:  #4479bb;\n",
       "            max-width:  90px;\n",
       "            font-size:  10pt;\n",
       "        }    #T_69c6cc28_6374_11e8_8bbe_94dbc998ecfcrow8_col9 {\n",
       "            background-color:  #d94462;\n",
       "            max-width:  90px;\n",
       "            font-size:  10pt;\n",
       "        }    #T_69c6cc28_6374_11e8_8bbe_94dbc998ecfcrow8_col10 {\n",
       "            background-color:  #4479bb;\n",
       "            max-width:  90px;\n",
       "            font-size:  10pt;\n",
       "        }    #T_69c6cc28_6374_11e8_8bbe_94dbc998ecfcrow8_col11 {\n",
       "            background-color:  #d73c5b;\n",
       "            max-width:  90px;\n",
       "            font-size:  10pt;\n",
       "        }    #T_69c6cc28_6374_11e8_8bbe_94dbc998ecfcrow8_col12 {\n",
       "            background-color:  #d73c5b;\n",
       "            max-width:  90px;\n",
       "            font-size:  10pt;\n",
       "        }    #T_69c6cc28_6374_11e8_8bbe_94dbc998ecfcrow8_col13 {\n",
       "            background-color:  #d73c5b;\n",
       "            max-width:  90px;\n",
       "            font-size:  10pt;\n",
       "        }    #T_69c6cc28_6374_11e8_8bbe_94dbc998ecfcrow8_col14 {\n",
       "            background-color:  #d73d5c;\n",
       "            max-width:  90px;\n",
       "            font-size:  10pt;\n",
       "        }    #T_69c6cc28_6374_11e8_8bbe_94dbc998ecfcrow9_col0 {\n",
       "            background-color:  #d73d5c;\n",
       "            max-width:  90px;\n",
       "            font-size:  10pt;\n",
       "        }    #T_69c6cc28_6374_11e8_8bbe_94dbc998ecfcrow9_col1 {\n",
       "            background-color:  #d94462;\n",
       "            max-width:  90px;\n",
       "            font-size:  10pt;\n",
       "        }    #T_69c6cc28_6374_11e8_8bbe_94dbc998ecfcrow9_col2 {\n",
       "            background-color:  #da4966;\n",
       "            max-width:  90px;\n",
       "            font-size:  10pt;\n",
       "        }    #T_69c6cc28_6374_11e8_8bbe_94dbc998ecfcrow9_col3 {\n",
       "            background-color:  #d73c5b;\n",
       "            max-width:  90px;\n",
       "            font-size:  10pt;\n",
       "        }    #T_69c6cc28_6374_11e8_8bbe_94dbc998ecfcrow9_col4 {\n",
       "            background-color:  #da4966;\n",
       "            max-width:  90px;\n",
       "            font-size:  10pt;\n",
       "        }    #T_69c6cc28_6374_11e8_8bbe_94dbc998ecfcrow9_col5 {\n",
       "            background-color:  #d94462;\n",
       "            max-width:  90px;\n",
       "            font-size:  10pt;\n",
       "        }    #T_69c6cc28_6374_11e8_8bbe_94dbc998ecfcrow9_col6 {\n",
       "            background-color:  #d94462;\n",
       "            max-width:  90px;\n",
       "            font-size:  10pt;\n",
       "        }    #T_69c6cc28_6374_11e8_8bbe_94dbc998ecfcrow9_col7 {\n",
       "            background-color:  #d94462;\n",
       "            max-width:  90px;\n",
       "            font-size:  10pt;\n",
       "        }    #T_69c6cc28_6374_11e8_8bbe_94dbc998ecfcrow9_col8 {\n",
       "            background-color:  #d94563;\n",
       "            max-width:  90px;\n",
       "            font-size:  10pt;\n",
       "        }    #T_69c6cc28_6374_11e8_8bbe_94dbc998ecfcrow9_col9 {\n",
       "            background-color:  #4479bb;\n",
       "            max-width:  90px;\n",
       "            font-size:  10pt;\n",
       "        }    #T_69c6cc28_6374_11e8_8bbe_94dbc998ecfcrow9_col10 {\n",
       "            background-color:  #d94563;\n",
       "            max-width:  90px;\n",
       "            font-size:  10pt;\n",
       "        }    #T_69c6cc28_6374_11e8_8bbe_94dbc998ecfcrow9_col11 {\n",
       "            background-color:  #d73d5c;\n",
       "            max-width:  90px;\n",
       "            font-size:  10pt;\n",
       "        }    #T_69c6cc28_6374_11e8_8bbe_94dbc998ecfcrow9_col12 {\n",
       "            background-color:  #d8415f;\n",
       "            max-width:  90px;\n",
       "            font-size:  10pt;\n",
       "        }    #T_69c6cc28_6374_11e8_8bbe_94dbc998ecfcrow9_col13 {\n",
       "            background-color:  #d73d5c;\n",
       "            max-width:  90px;\n",
       "            font-size:  10pt;\n",
       "        }    #T_69c6cc28_6374_11e8_8bbe_94dbc998ecfcrow9_col14 {\n",
       "            background-color:  #d73d5c;\n",
       "            max-width:  90px;\n",
       "            font-size:  10pt;\n",
       "        }    #T_69c6cc28_6374_11e8_8bbe_94dbc998ecfcrow10_col0 {\n",
       "            background-color:  #d73d5c;\n",
       "            max-width:  90px;\n",
       "            font-size:  10pt;\n",
       "        }    #T_69c6cc28_6374_11e8_8bbe_94dbc998ecfcrow10_col1 {\n",
       "            background-color:  #d94261;\n",
       "            max-width:  90px;\n",
       "            font-size:  10pt;\n",
       "        }    #T_69c6cc28_6374_11e8_8bbe_94dbc998ecfcrow10_col2 {\n",
       "            background-color:  #d8415f;\n",
       "            max-width:  90px;\n",
       "            font-size:  10pt;\n",
       "        }    #T_69c6cc28_6374_11e8_8bbe_94dbc998ecfcrow10_col3 {\n",
       "            background-color:  #da4865;\n",
       "            max-width:  90px;\n",
       "            font-size:  10pt;\n",
       "        }    #T_69c6cc28_6374_11e8_8bbe_94dbc998ecfcrow10_col4 {\n",
       "            background-color:  #d8415f;\n",
       "            max-width:  90px;\n",
       "            font-size:  10pt;\n",
       "        }    #T_69c6cc28_6374_11e8_8bbe_94dbc998ecfcrow10_col5 {\n",
       "            background-color:  #d73c5b;\n",
       "            max-width:  90px;\n",
       "            font-size:  10pt;\n",
       "        }    #T_69c6cc28_6374_11e8_8bbe_94dbc998ecfcrow10_col6 {\n",
       "            background-color:  #d8405e;\n",
       "            max-width:  90px;\n",
       "            font-size:  10pt;\n",
       "        }    #T_69c6cc28_6374_11e8_8bbe_94dbc998ecfcrow10_col7 {\n",
       "            background-color:  #d73c5b;\n",
       "            max-width:  90px;\n",
       "            font-size:  10pt;\n",
       "        }    #T_69c6cc28_6374_11e8_8bbe_94dbc998ecfcrow10_col8 {\n",
       "            background-color:  #4479bb;\n",
       "            max-width:  90px;\n",
       "            font-size:  10pt;\n",
       "        }    #T_69c6cc28_6374_11e8_8bbe_94dbc998ecfcrow10_col9 {\n",
       "            background-color:  #d94462;\n",
       "            max-width:  90px;\n",
       "            font-size:  10pt;\n",
       "        }    #T_69c6cc28_6374_11e8_8bbe_94dbc998ecfcrow10_col10 {\n",
       "            background-color:  #4479bb;\n",
       "            max-width:  90px;\n",
       "            font-size:  10pt;\n",
       "        }    #T_69c6cc28_6374_11e8_8bbe_94dbc998ecfcrow10_col11 {\n",
       "            background-color:  #d73c5b;\n",
       "            max-width:  90px;\n",
       "            font-size:  10pt;\n",
       "        }    #T_69c6cc28_6374_11e8_8bbe_94dbc998ecfcrow10_col12 {\n",
       "            background-color:  #d73c5b;\n",
       "            max-width:  90px;\n",
       "            font-size:  10pt;\n",
       "        }    #T_69c6cc28_6374_11e8_8bbe_94dbc998ecfcrow10_col13 {\n",
       "            background-color:  #d73c5b;\n",
       "            max-width:  90px;\n",
       "            font-size:  10pt;\n",
       "        }    #T_69c6cc28_6374_11e8_8bbe_94dbc998ecfcrow10_col14 {\n",
       "            background-color:  #d73d5c;\n",
       "            max-width:  90px;\n",
       "            font-size:  10pt;\n",
       "        }    #T_69c6cc28_6374_11e8_8bbe_94dbc998ecfcrow11_col0 {\n",
       "            background-color:  #d94462;\n",
       "            max-width:  90px;\n",
       "            font-size:  10pt;\n",
       "        }    #T_69c6cc28_6374_11e8_8bbe_94dbc998ecfcrow11_col1 {\n",
       "            background-color:  #d8415f;\n",
       "            max-width:  90px;\n",
       "            font-size:  10pt;\n",
       "        }    #T_69c6cc28_6374_11e8_8bbe_94dbc998ecfcrow11_col2 {\n",
       "            background-color:  #d73d5c;\n",
       "            max-width:  90px;\n",
       "            font-size:  10pt;\n",
       "        }    #T_69c6cc28_6374_11e8_8bbe_94dbc998ecfcrow11_col3 {\n",
       "            background-color:  #da4865;\n",
       "            max-width:  90px;\n",
       "            font-size:  10pt;\n",
       "        }    #T_69c6cc28_6374_11e8_8bbe_94dbc998ecfcrow11_col4 {\n",
       "            background-color:  #d73d5c;\n",
       "            max-width:  90px;\n",
       "            font-size:  10pt;\n",
       "        }    #T_69c6cc28_6374_11e8_8bbe_94dbc998ecfcrow11_col5 {\n",
       "            background-color:  #d73d5c;\n",
       "            max-width:  90px;\n",
       "            font-size:  10pt;\n",
       "        }    #T_69c6cc28_6374_11e8_8bbe_94dbc998ecfcrow11_col6 {\n",
       "            background-color:  #d94462;\n",
       "            max-width:  90px;\n",
       "            font-size:  10pt;\n",
       "        }    #T_69c6cc28_6374_11e8_8bbe_94dbc998ecfcrow11_col7 {\n",
       "            background-color:  #d73d5c;\n",
       "            max-width:  90px;\n",
       "            font-size:  10pt;\n",
       "        }    #T_69c6cc28_6374_11e8_8bbe_94dbc998ecfcrow11_col8 {\n",
       "            background-color:  #d73c5b;\n",
       "            max-width:  90px;\n",
       "            font-size:  10pt;\n",
       "        }    #T_69c6cc28_6374_11e8_8bbe_94dbc998ecfcrow11_col9 {\n",
       "            background-color:  #d73c5b;\n",
       "            max-width:  90px;\n",
       "            font-size:  10pt;\n",
       "        }    #T_69c6cc28_6374_11e8_8bbe_94dbc998ecfcrow11_col10 {\n",
       "            background-color:  #d73c5b;\n",
       "            max-width:  90px;\n",
       "            font-size:  10pt;\n",
       "        }    #T_69c6cc28_6374_11e8_8bbe_94dbc998ecfcrow11_col11 {\n",
       "            background-color:  #4479bb;\n",
       "            max-width:  90px;\n",
       "            font-size:  10pt;\n",
       "        }    #T_69c6cc28_6374_11e8_8bbe_94dbc998ecfcrow11_col12 {\n",
       "            background-color:  #da4b68;\n",
       "            max-width:  90px;\n",
       "            font-size:  10pt;\n",
       "        }    #T_69c6cc28_6374_11e8_8bbe_94dbc998ecfcrow11_col13 {\n",
       "            background-color:  #4479bb;\n",
       "            max-width:  90px;\n",
       "            font-size:  10pt;\n",
       "        }    #T_69c6cc28_6374_11e8_8bbe_94dbc998ecfcrow11_col14 {\n",
       "            background-color:  #d73d5c;\n",
       "            max-width:  90px;\n",
       "            font-size:  10pt;\n",
       "        }    #T_69c6cc28_6374_11e8_8bbe_94dbc998ecfcrow12_col0 {\n",
       "            background-color:  #da4865;\n",
       "            max-width:  90px;\n",
       "            font-size:  10pt;\n",
       "        }    #T_69c6cc28_6374_11e8_8bbe_94dbc998ecfcrow12_col1 {\n",
       "            background-color:  #d94563;\n",
       "            max-width:  90px;\n",
       "            font-size:  10pt;\n",
       "        }    #T_69c6cc28_6374_11e8_8bbe_94dbc998ecfcrow12_col2 {\n",
       "            background-color:  #d94462;\n",
       "            max-width:  90px;\n",
       "            font-size:  10pt;\n",
       "        }    #T_69c6cc28_6374_11e8_8bbe_94dbc998ecfcrow12_col3 {\n",
       "            background-color:  #d94261;\n",
       "            max-width:  90px;\n",
       "            font-size:  10pt;\n",
       "        }    #T_69c6cc28_6374_11e8_8bbe_94dbc998ecfcrow12_col4 {\n",
       "            background-color:  #d94462;\n",
       "            max-width:  90px;\n",
       "            font-size:  10pt;\n",
       "        }    #T_69c6cc28_6374_11e8_8bbe_94dbc998ecfcrow12_col5 {\n",
       "            background-color:  #d94261;\n",
       "            max-width:  90px;\n",
       "            font-size:  10pt;\n",
       "        }    #T_69c6cc28_6374_11e8_8bbe_94dbc998ecfcrow12_col6 {\n",
       "            background-color:  #d94764;\n",
       "            max-width:  90px;\n",
       "            font-size:  10pt;\n",
       "        }    #T_69c6cc28_6374_11e8_8bbe_94dbc998ecfcrow12_col7 {\n",
       "            background-color:  #d94261;\n",
       "            max-width:  90px;\n",
       "            font-size:  10pt;\n",
       "        }    #T_69c6cc28_6374_11e8_8bbe_94dbc998ecfcrow12_col8 {\n",
       "            background-color:  #d73d5c;\n",
       "            max-width:  90px;\n",
       "            font-size:  10pt;\n",
       "        }    #T_69c6cc28_6374_11e8_8bbe_94dbc998ecfcrow12_col9 {\n",
       "            background-color:  #d8415f;\n",
       "            max-width:  90px;\n",
       "            font-size:  10pt;\n",
       "        }    #T_69c6cc28_6374_11e8_8bbe_94dbc998ecfcrow12_col10 {\n",
       "            background-color:  #d73d5c;\n",
       "            max-width:  90px;\n",
       "            font-size:  10pt;\n",
       "        }    #T_69c6cc28_6374_11e8_8bbe_94dbc998ecfcrow12_col11 {\n",
       "            background-color:  #db4d69;\n",
       "            max-width:  90px;\n",
       "            font-size:  10pt;\n",
       "        }    #T_69c6cc28_6374_11e8_8bbe_94dbc998ecfcrow12_col12 {\n",
       "            background-color:  #4479bb;\n",
       "            max-width:  90px;\n",
       "            font-size:  10pt;\n",
       "        }    #T_69c6cc28_6374_11e8_8bbe_94dbc998ecfcrow12_col13 {\n",
       "            background-color:  #db4d69;\n",
       "            max-width:  90px;\n",
       "            font-size:  10pt;\n",
       "        }    #T_69c6cc28_6374_11e8_8bbe_94dbc998ecfcrow12_col14 {\n",
       "            background-color:  #d73c5b;\n",
       "            max-width:  90px;\n",
       "            font-size:  10pt;\n",
       "        }    #T_69c6cc28_6374_11e8_8bbe_94dbc998ecfcrow13_col0 {\n",
       "            background-color:  #d94462;\n",
       "            max-width:  90px;\n",
       "            font-size:  10pt;\n",
       "        }    #T_69c6cc28_6374_11e8_8bbe_94dbc998ecfcrow13_col1 {\n",
       "            background-color:  #d8415f;\n",
       "            max-width:  90px;\n",
       "            font-size:  10pt;\n",
       "        }    #T_69c6cc28_6374_11e8_8bbe_94dbc998ecfcrow13_col2 {\n",
       "            background-color:  #d73d5c;\n",
       "            max-width:  90px;\n",
       "            font-size:  10pt;\n",
       "        }    #T_69c6cc28_6374_11e8_8bbe_94dbc998ecfcrow13_col3 {\n",
       "            background-color:  #da4865;\n",
       "            max-width:  90px;\n",
       "            font-size:  10pt;\n",
       "        }    #T_69c6cc28_6374_11e8_8bbe_94dbc998ecfcrow13_col4 {\n",
       "            background-color:  #d73d5c;\n",
       "            max-width:  90px;\n",
       "            font-size:  10pt;\n",
       "        }    #T_69c6cc28_6374_11e8_8bbe_94dbc998ecfcrow13_col5 {\n",
       "            background-color:  #d73d5c;\n",
       "            max-width:  90px;\n",
       "            font-size:  10pt;\n",
       "        }    #T_69c6cc28_6374_11e8_8bbe_94dbc998ecfcrow13_col6 {\n",
       "            background-color:  #d94462;\n",
       "            max-width:  90px;\n",
       "            font-size:  10pt;\n",
       "        }    #T_69c6cc28_6374_11e8_8bbe_94dbc998ecfcrow13_col7 {\n",
       "            background-color:  #d73d5c;\n",
       "            max-width:  90px;\n",
       "            font-size:  10pt;\n",
       "        }    #T_69c6cc28_6374_11e8_8bbe_94dbc998ecfcrow13_col8 {\n",
       "            background-color:  #d73c5b;\n",
       "            max-width:  90px;\n",
       "            font-size:  10pt;\n",
       "        }    #T_69c6cc28_6374_11e8_8bbe_94dbc998ecfcrow13_col9 {\n",
       "            background-color:  #d73c5b;\n",
       "            max-width:  90px;\n",
       "            font-size:  10pt;\n",
       "        }    #T_69c6cc28_6374_11e8_8bbe_94dbc998ecfcrow13_col10 {\n",
       "            background-color:  #d73c5b;\n",
       "            max-width:  90px;\n",
       "            font-size:  10pt;\n",
       "        }    #T_69c6cc28_6374_11e8_8bbe_94dbc998ecfcrow13_col11 {\n",
       "            background-color:  #4479bb;\n",
       "            max-width:  90px;\n",
       "            font-size:  10pt;\n",
       "        }    #T_69c6cc28_6374_11e8_8bbe_94dbc998ecfcrow13_col12 {\n",
       "            background-color:  #da4b68;\n",
       "            max-width:  90px;\n",
       "            font-size:  10pt;\n",
       "        }    #T_69c6cc28_6374_11e8_8bbe_94dbc998ecfcrow13_col13 {\n",
       "            background-color:  #4479bb;\n",
       "            max-width:  90px;\n",
       "            font-size:  10pt;\n",
       "        }    #T_69c6cc28_6374_11e8_8bbe_94dbc998ecfcrow13_col14 {\n",
       "            background-color:  #d73d5c;\n",
       "            max-width:  90px;\n",
       "            font-size:  10pt;\n",
       "        }    #T_69c6cc28_6374_11e8_8bbe_94dbc998ecfcrow14_col0 {\n",
       "            background-color:  #d8405e;\n",
       "            max-width:  90px;\n",
       "            font-size:  10pt;\n",
       "        }    #T_69c6cc28_6374_11e8_8bbe_94dbc998ecfcrow14_col1 {\n",
       "            background-color:  #d73d5c;\n",
       "            max-width:  90px;\n",
       "            font-size:  10pt;\n",
       "        }    #T_69c6cc28_6374_11e8_8bbe_94dbc998ecfcrow14_col2 {\n",
       "            background-color:  #d73d5c;\n",
       "            max-width:  90px;\n",
       "            font-size:  10pt;\n",
       "        }    #T_69c6cc28_6374_11e8_8bbe_94dbc998ecfcrow14_col3 {\n",
       "            background-color:  #d73c5b;\n",
       "            max-width:  90px;\n",
       "            font-size:  10pt;\n",
       "        }    #T_69c6cc28_6374_11e8_8bbe_94dbc998ecfcrow14_col4 {\n",
       "            background-color:  #d73d5c;\n",
       "            max-width:  90px;\n",
       "            font-size:  10pt;\n",
       "        }    #T_69c6cc28_6374_11e8_8bbe_94dbc998ecfcrow14_col5 {\n",
       "            background-color:  #d73d5c;\n",
       "            max-width:  90px;\n",
       "            font-size:  10pt;\n",
       "        }    #T_69c6cc28_6374_11e8_8bbe_94dbc998ecfcrow14_col6 {\n",
       "            background-color:  #d94261;\n",
       "            max-width:  90px;\n",
       "            font-size:  10pt;\n",
       "        }    #T_69c6cc28_6374_11e8_8bbe_94dbc998ecfcrow14_col7 {\n",
       "            background-color:  #d73d5c;\n",
       "            max-width:  90px;\n",
       "            font-size:  10pt;\n",
       "        }    #T_69c6cc28_6374_11e8_8bbe_94dbc998ecfcrow14_col8 {\n",
       "            background-color:  #d83e5d;\n",
       "            max-width:  90px;\n",
       "            font-size:  10pt;\n",
       "        }    #T_69c6cc28_6374_11e8_8bbe_94dbc998ecfcrow14_col9 {\n",
       "            background-color:  #d73d5c;\n",
       "            max-width:  90px;\n",
       "            font-size:  10pt;\n",
       "        }    #T_69c6cc28_6374_11e8_8bbe_94dbc998ecfcrow14_col10 {\n",
       "            background-color:  #d83e5d;\n",
       "            max-width:  90px;\n",
       "            font-size:  10pt;\n",
       "        }    #T_69c6cc28_6374_11e8_8bbe_94dbc998ecfcrow14_col11 {\n",
       "            background-color:  #d83e5d;\n",
       "            max-width:  90px;\n",
       "            font-size:  10pt;\n",
       "        }    #T_69c6cc28_6374_11e8_8bbe_94dbc998ecfcrow14_col12 {\n",
       "            background-color:  #d73c5b;\n",
       "            max-width:  90px;\n",
       "            font-size:  10pt;\n",
       "        }    #T_69c6cc28_6374_11e8_8bbe_94dbc998ecfcrow14_col13 {\n",
       "            background-color:  #d83e5d;\n",
       "            max-width:  90px;\n",
       "            font-size:  10pt;\n",
       "        }    #T_69c6cc28_6374_11e8_8bbe_94dbc998ecfcrow14_col14 {\n",
       "            background-color:  #4479bb;\n",
       "            max-width:  90px;\n",
       "            font-size:  10pt;\n",
       "        }</style>  \n",
       "<table id=\"T_69c6cc28_6374_11e8_8bbe_94dbc998ecfc\" ><caption>Correlation matrix</caption> \n",
       "<thead>    <tr> \n",
       "        <th class=\"blank level0\" ></th> \n",
       "        <th class=\"col_heading level0 col0\" >account_length</th> \n",
       "        <th class=\"col_heading level0 col1\" >number_vmail_messages</th> \n",
       "        <th class=\"col_heading level0 col2\" >total_day_minutes</th> \n",
       "        <th class=\"col_heading level0 col3\" >total_day_calls</th> \n",
       "        <th class=\"col_heading level0 col4\" >total_day_charge</th> \n",
       "        <th class=\"col_heading level0 col5\" >total_eve_minutes</th> \n",
       "        <th class=\"col_heading level0 col6\" >total_eve_calls</th> \n",
       "        <th class=\"col_heading level0 col7\" >total_eve_charge</th> \n",
       "        <th class=\"col_heading level0 col8\" >total_night_minutes</th> \n",
       "        <th class=\"col_heading level0 col9\" >total_night_calls</th> \n",
       "        <th class=\"col_heading level0 col10\" >total_night_charge</th> \n",
       "        <th class=\"col_heading level0 col11\" >total_intl_minutes</th> \n",
       "        <th class=\"col_heading level0 col12\" >total_intl_calls</th> \n",
       "        <th class=\"col_heading level0 col13\" >total_intl_charge</th> \n",
       "        <th class=\"col_heading level0 col14\" >number_customer_service_calls</th> \n",
       "    </tr></thead> \n",
       "<tbody>    <tr> \n",
       "        <th id=\"T_69c6cc28_6374_11e8_8bbe_94dbc998ecfclevel0_row0\" class=\"row_heading level0 row0\" >account_length</th> \n",
       "        <td id=\"T_69c6cc28_6374_11e8_8bbe_94dbc998ecfcrow0_col0\" class=\"data row0 col0\" >1</td> \n",
       "        <td id=\"T_69c6cc28_6374_11e8_8bbe_94dbc998ecfcrow0_col1\" class=\"data row0 col1\" >-0.0046</td> \n",
       "        <td id=\"T_69c6cc28_6374_11e8_8bbe_94dbc998ecfcrow0_col2\" class=\"data row0 col2\" >0.0062</td> \n",
       "        <td id=\"T_69c6cc28_6374_11e8_8bbe_94dbc998ecfcrow0_col3\" class=\"data row0 col3\" >0.038</td> \n",
       "        <td id=\"T_69c6cc28_6374_11e8_8bbe_94dbc998ecfcrow0_col4\" class=\"data row0 col4\" >0.0062</td> \n",
       "        <td id=\"T_69c6cc28_6374_11e8_8bbe_94dbc998ecfcrow0_col5\" class=\"data row0 col5\" >-0.0068</td> \n",
       "        <td id=\"T_69c6cc28_6374_11e8_8bbe_94dbc998ecfcrow0_col6\" class=\"data row0 col6\" >0.019</td> \n",
       "        <td id=\"T_69c6cc28_6374_11e8_8bbe_94dbc998ecfcrow0_col7\" class=\"data row0 col7\" >-0.0067</td> \n",
       "        <td id=\"T_69c6cc28_6374_11e8_8bbe_94dbc998ecfcrow0_col8\" class=\"data row0 col8\" >-0.009</td> \n",
       "        <td id=\"T_69c6cc28_6374_11e8_8bbe_94dbc998ecfcrow0_col9\" class=\"data row0 col9\" >-0.013</td> \n",
       "        <td id=\"T_69c6cc28_6374_11e8_8bbe_94dbc998ecfcrow0_col10\" class=\"data row0 col10\" >-0.009</td> \n",
       "        <td id=\"T_69c6cc28_6374_11e8_8bbe_94dbc998ecfcrow0_col11\" class=\"data row0 col11\" >0.0095</td> \n",
       "        <td id=\"T_69c6cc28_6374_11e8_8bbe_94dbc998ecfcrow0_col12\" class=\"data row0 col12\" >0.021</td> \n",
       "        <td id=\"T_69c6cc28_6374_11e8_8bbe_94dbc998ecfcrow0_col13\" class=\"data row0 col13\" >0.0095</td> \n",
       "        <td id=\"T_69c6cc28_6374_11e8_8bbe_94dbc998ecfcrow0_col14\" class=\"data row0 col14\" >-0.0038</td> \n",
       "    </tr>    <tr> \n",
       "        <th id=\"T_69c6cc28_6374_11e8_8bbe_94dbc998ecfclevel0_row1\" class=\"row_heading level0 row1\" >number_vmail_messages</th> \n",
       "        <td id=\"T_69c6cc28_6374_11e8_8bbe_94dbc998ecfcrow1_col0\" class=\"data row1 col0\" >-0.0046</td> \n",
       "        <td id=\"T_69c6cc28_6374_11e8_8bbe_94dbc998ecfcrow1_col1\" class=\"data row1 col1\" >1</td> \n",
       "        <td id=\"T_69c6cc28_6374_11e8_8bbe_94dbc998ecfcrow1_col2\" class=\"data row1 col2\" >0.00078</td> \n",
       "        <td id=\"T_69c6cc28_6374_11e8_8bbe_94dbc998ecfcrow1_col3\" class=\"data row1 col3\" >-0.0095</td> \n",
       "        <td id=\"T_69c6cc28_6374_11e8_8bbe_94dbc998ecfcrow1_col4\" class=\"data row1 col4\" >0.00078</td> \n",
       "        <td id=\"T_69c6cc28_6374_11e8_8bbe_94dbc998ecfcrow1_col5\" class=\"data row1 col5\" >0.018</td> \n",
       "        <td id=\"T_69c6cc28_6374_11e8_8bbe_94dbc998ecfcrow1_col6\" class=\"data row1 col6\" >-0.0059</td> \n",
       "        <td id=\"T_69c6cc28_6374_11e8_8bbe_94dbc998ecfcrow1_col7\" class=\"data row1 col7\" >0.018</td> \n",
       "        <td id=\"T_69c6cc28_6374_11e8_8bbe_94dbc998ecfcrow1_col8\" class=\"data row1 col8\" >0.0077</td> \n",
       "        <td id=\"T_69c6cc28_6374_11e8_8bbe_94dbc998ecfcrow1_col9\" class=\"data row1 col9\" >0.0071</td> \n",
       "        <td id=\"T_69c6cc28_6374_11e8_8bbe_94dbc998ecfcrow1_col10\" class=\"data row1 col10\" >0.0077</td> \n",
       "        <td id=\"T_69c6cc28_6374_11e8_8bbe_94dbc998ecfcrow1_col11\" class=\"data row1 col11\" >0.0029</td> \n",
       "        <td id=\"T_69c6cc28_6374_11e8_8bbe_94dbc998ecfcrow1_col12\" class=\"data row1 col12\" >0.014</td> \n",
       "        <td id=\"T_69c6cc28_6374_11e8_8bbe_94dbc998ecfcrow1_col13\" class=\"data row1 col13\" >0.0029</td> \n",
       "        <td id=\"T_69c6cc28_6374_11e8_8bbe_94dbc998ecfcrow1_col14\" class=\"data row1 col14\" >-0.013</td> \n",
       "    </tr>    <tr> \n",
       "        <th id=\"T_69c6cc28_6374_11e8_8bbe_94dbc998ecfclevel0_row2\" class=\"row_heading level0 row2\" >total_day_minutes</th> \n",
       "        <td id=\"T_69c6cc28_6374_11e8_8bbe_94dbc998ecfcrow2_col0\" class=\"data row2 col0\" >0.0062</td> \n",
       "        <td id=\"T_69c6cc28_6374_11e8_8bbe_94dbc998ecfcrow2_col1\" class=\"data row2 col1\" >0.00078</td> \n",
       "        <td id=\"T_69c6cc28_6374_11e8_8bbe_94dbc998ecfcrow2_col2\" class=\"data row2 col2\" >1</td> \n",
       "        <td id=\"T_69c6cc28_6374_11e8_8bbe_94dbc998ecfcrow2_col3\" class=\"data row2 col3\" >0.0068</td> \n",
       "        <td id=\"T_69c6cc28_6374_11e8_8bbe_94dbc998ecfcrow2_col4\" class=\"data row2 col4\" >1</td> \n",
       "        <td id=\"T_69c6cc28_6374_11e8_8bbe_94dbc998ecfcrow2_col5\" class=\"data row2 col5\" >0.007</td> \n",
       "        <td id=\"T_69c6cc28_6374_11e8_8bbe_94dbc998ecfcrow2_col6\" class=\"data row2 col6\" >0.016</td> \n",
       "        <td id=\"T_69c6cc28_6374_11e8_8bbe_94dbc998ecfcrow2_col7\" class=\"data row2 col7\" >0.007</td> \n",
       "        <td id=\"T_69c6cc28_6374_11e8_8bbe_94dbc998ecfcrow2_col8\" class=\"data row2 col8\" >0.0043</td> \n",
       "        <td id=\"T_69c6cc28_6374_11e8_8bbe_94dbc998ecfcrow2_col9\" class=\"data row2 col9\" >0.023</td> \n",
       "        <td id=\"T_69c6cc28_6374_11e8_8bbe_94dbc998ecfcrow2_col10\" class=\"data row2 col10\" >0.0043</td> \n",
       "        <td id=\"T_69c6cc28_6374_11e8_8bbe_94dbc998ecfcrow2_col11\" class=\"data row2 col11\" >-0.01</td> \n",
       "        <td id=\"T_69c6cc28_6374_11e8_8bbe_94dbc998ecfcrow2_col12\" class=\"data row2 col12\" >0.008</td> \n",
       "        <td id=\"T_69c6cc28_6374_11e8_8bbe_94dbc998ecfcrow2_col13\" class=\"data row2 col13\" >-0.01</td> \n",
       "        <td id=\"T_69c6cc28_6374_11e8_8bbe_94dbc998ecfcrow2_col14\" class=\"data row2 col14\" >-0.013</td> \n",
       "    </tr>    <tr> \n",
       "        <th id=\"T_69c6cc28_6374_11e8_8bbe_94dbc998ecfclevel0_row3\" class=\"row_heading level0 row3\" >total_day_calls</th> \n",
       "        <td id=\"T_69c6cc28_6374_11e8_8bbe_94dbc998ecfcrow3_col0\" class=\"data row3 col0\" >0.038</td> \n",
       "        <td id=\"T_69c6cc28_6374_11e8_8bbe_94dbc998ecfcrow3_col1\" class=\"data row3 col1\" >-0.0095</td> \n",
       "        <td id=\"T_69c6cc28_6374_11e8_8bbe_94dbc998ecfcrow3_col2\" class=\"data row3 col2\" >0.0068</td> \n",
       "        <td id=\"T_69c6cc28_6374_11e8_8bbe_94dbc998ecfcrow3_col3\" class=\"data row3 col3\" >1</td> \n",
       "        <td id=\"T_69c6cc28_6374_11e8_8bbe_94dbc998ecfcrow3_col4\" class=\"data row3 col4\" >0.0068</td> \n",
       "        <td id=\"T_69c6cc28_6374_11e8_8bbe_94dbc998ecfcrow3_col5\" class=\"data row3 col5\" >-0.021</td> \n",
       "        <td id=\"T_69c6cc28_6374_11e8_8bbe_94dbc998ecfcrow3_col6\" class=\"data row3 col6\" >0.0065</td> \n",
       "        <td id=\"T_69c6cc28_6374_11e8_8bbe_94dbc998ecfcrow3_col7\" class=\"data row3 col7\" >-0.021</td> \n",
       "        <td id=\"T_69c6cc28_6374_11e8_8bbe_94dbc998ecfcrow3_col8\" class=\"data row3 col8\" >0.023</td> \n",
       "        <td id=\"T_69c6cc28_6374_11e8_8bbe_94dbc998ecfcrow3_col9\" class=\"data row3 col9\" >-0.02</td> \n",
       "        <td id=\"T_69c6cc28_6374_11e8_8bbe_94dbc998ecfcrow3_col10\" class=\"data row3 col10\" >0.023</td> \n",
       "        <td id=\"T_69c6cc28_6374_11e8_8bbe_94dbc998ecfcrow3_col11\" class=\"data row3 col11\" >0.022</td> \n",
       "        <td id=\"T_69c6cc28_6374_11e8_8bbe_94dbc998ecfcrow3_col12\" class=\"data row3 col12\" >0.0046</td> \n",
       "        <td id=\"T_69c6cc28_6374_11e8_8bbe_94dbc998ecfcrow3_col13\" class=\"data row3 col13\" >0.022</td> \n",
       "        <td id=\"T_69c6cc28_6374_11e8_8bbe_94dbc998ecfcrow3_col14\" class=\"data row3 col14\" >-0.019</td> \n",
       "    </tr>    <tr> \n",
       "        <th id=\"T_69c6cc28_6374_11e8_8bbe_94dbc998ecfclevel0_row4\" class=\"row_heading level0 row4\" >total_day_charge</th> \n",
       "        <td id=\"T_69c6cc28_6374_11e8_8bbe_94dbc998ecfcrow4_col0\" class=\"data row4 col0\" >0.0062</td> \n",
       "        <td id=\"T_69c6cc28_6374_11e8_8bbe_94dbc998ecfcrow4_col1\" class=\"data row4 col1\" >0.00078</td> \n",
       "        <td id=\"T_69c6cc28_6374_11e8_8bbe_94dbc998ecfcrow4_col2\" class=\"data row4 col2\" >1</td> \n",
       "        <td id=\"T_69c6cc28_6374_11e8_8bbe_94dbc998ecfcrow4_col3\" class=\"data row4 col3\" >0.0068</td> \n",
       "        <td id=\"T_69c6cc28_6374_11e8_8bbe_94dbc998ecfcrow4_col4\" class=\"data row4 col4\" >1</td> \n",
       "        <td id=\"T_69c6cc28_6374_11e8_8bbe_94dbc998ecfcrow4_col5\" class=\"data row4 col5\" >0.007</td> \n",
       "        <td id=\"T_69c6cc28_6374_11e8_8bbe_94dbc998ecfcrow4_col6\" class=\"data row4 col6\" >0.016</td> \n",
       "        <td id=\"T_69c6cc28_6374_11e8_8bbe_94dbc998ecfcrow4_col7\" class=\"data row4 col7\" >0.007</td> \n",
       "        <td id=\"T_69c6cc28_6374_11e8_8bbe_94dbc998ecfcrow4_col8\" class=\"data row4 col8\" >0.0043</td> \n",
       "        <td id=\"T_69c6cc28_6374_11e8_8bbe_94dbc998ecfcrow4_col9\" class=\"data row4 col9\" >0.023</td> \n",
       "        <td id=\"T_69c6cc28_6374_11e8_8bbe_94dbc998ecfcrow4_col10\" class=\"data row4 col10\" >0.0043</td> \n",
       "        <td id=\"T_69c6cc28_6374_11e8_8bbe_94dbc998ecfcrow4_col11\" class=\"data row4 col11\" >-0.01</td> \n",
       "        <td id=\"T_69c6cc28_6374_11e8_8bbe_94dbc998ecfcrow4_col12\" class=\"data row4 col12\" >0.008</td> \n",
       "        <td id=\"T_69c6cc28_6374_11e8_8bbe_94dbc998ecfcrow4_col13\" class=\"data row4 col13\" >-0.01</td> \n",
       "        <td id=\"T_69c6cc28_6374_11e8_8bbe_94dbc998ecfcrow4_col14\" class=\"data row4 col14\" >-0.013</td> \n",
       "    </tr>    <tr> \n",
       "        <th id=\"T_69c6cc28_6374_11e8_8bbe_94dbc998ecfclevel0_row5\" class=\"row_heading level0 row5\" >total_eve_minutes</th> \n",
       "        <td id=\"T_69c6cc28_6374_11e8_8bbe_94dbc998ecfcrow5_col0\" class=\"data row5 col0\" >-0.0068</td> \n",
       "        <td id=\"T_69c6cc28_6374_11e8_8bbe_94dbc998ecfcrow5_col1\" class=\"data row5 col1\" >0.018</td> \n",
       "        <td id=\"T_69c6cc28_6374_11e8_8bbe_94dbc998ecfcrow5_col2\" class=\"data row5 col2\" >0.007</td> \n",
       "        <td id=\"T_69c6cc28_6374_11e8_8bbe_94dbc998ecfcrow5_col3\" class=\"data row5 col3\" >-0.021</td> \n",
       "        <td id=\"T_69c6cc28_6374_11e8_8bbe_94dbc998ecfcrow5_col4\" class=\"data row5 col4\" >0.007</td> \n",
       "        <td id=\"T_69c6cc28_6374_11e8_8bbe_94dbc998ecfcrow5_col5\" class=\"data row5 col5\" >1</td> \n",
       "        <td id=\"T_69c6cc28_6374_11e8_8bbe_94dbc998ecfcrow5_col6\" class=\"data row5 col6\" >-0.011</td> \n",
       "        <td id=\"T_69c6cc28_6374_11e8_8bbe_94dbc998ecfcrow5_col7\" class=\"data row5 col7\" >1</td> \n",
       "        <td id=\"T_69c6cc28_6374_11e8_8bbe_94dbc998ecfcrow5_col8\" class=\"data row5 col8\" >-0.013</td> \n",
       "        <td id=\"T_69c6cc28_6374_11e8_8bbe_94dbc998ecfcrow5_col9\" class=\"data row5 col9\" >0.0076</td> \n",
       "        <td id=\"T_69c6cc28_6374_11e8_8bbe_94dbc998ecfcrow5_col10\" class=\"data row5 col10\" >-0.013</td> \n",
       "        <td id=\"T_69c6cc28_6374_11e8_8bbe_94dbc998ecfcrow5_col11\" class=\"data row5 col11\" >-0.011</td> \n",
       "        <td id=\"T_69c6cc28_6374_11e8_8bbe_94dbc998ecfcrow5_col12\" class=\"data row5 col12\" >0.0025</td> \n",
       "        <td id=\"T_69c6cc28_6374_11e8_8bbe_94dbc998ecfcrow5_col13\" class=\"data row5 col13\" >-0.011</td> \n",
       "        <td id=\"T_69c6cc28_6374_11e8_8bbe_94dbc998ecfcrow5_col14\" class=\"data row5 col14\" >-0.013</td> \n",
       "    </tr>    <tr> \n",
       "        <th id=\"T_69c6cc28_6374_11e8_8bbe_94dbc998ecfclevel0_row6\" class=\"row_heading level0 row6\" >total_eve_calls</th> \n",
       "        <td id=\"T_69c6cc28_6374_11e8_8bbe_94dbc998ecfcrow6_col0\" class=\"data row6 col0\" >0.019</td> \n",
       "        <td id=\"T_69c6cc28_6374_11e8_8bbe_94dbc998ecfcrow6_col1\" class=\"data row6 col1\" >-0.0059</td> \n",
       "        <td id=\"T_69c6cc28_6374_11e8_8bbe_94dbc998ecfcrow6_col2\" class=\"data row6 col2\" >0.016</td> \n",
       "        <td id=\"T_69c6cc28_6374_11e8_8bbe_94dbc998ecfcrow6_col3\" class=\"data row6 col3\" >0.0065</td> \n",
       "        <td id=\"T_69c6cc28_6374_11e8_8bbe_94dbc998ecfcrow6_col4\" class=\"data row6 col4\" >0.016</td> \n",
       "        <td id=\"T_69c6cc28_6374_11e8_8bbe_94dbc998ecfcrow6_col5\" class=\"data row6 col5\" >-0.011</td> \n",
       "        <td id=\"T_69c6cc28_6374_11e8_8bbe_94dbc998ecfcrow6_col6\" class=\"data row6 col6\" >1</td> \n",
       "        <td id=\"T_69c6cc28_6374_11e8_8bbe_94dbc998ecfcrow6_col7\" class=\"data row6 col7\" >-0.011</td> \n",
       "        <td id=\"T_69c6cc28_6374_11e8_8bbe_94dbc998ecfcrow6_col8\" class=\"data row6 col8\" >-0.0021</td> \n",
       "        <td id=\"T_69c6cc28_6374_11e8_8bbe_94dbc998ecfcrow6_col9\" class=\"data row6 col9\" >0.0077</td> \n",
       "        <td id=\"T_69c6cc28_6374_11e8_8bbe_94dbc998ecfcrow6_col10\" class=\"data row6 col10\" >-0.0021</td> \n",
       "        <td id=\"T_69c6cc28_6374_11e8_8bbe_94dbc998ecfcrow6_col11\" class=\"data row6 col11\" >0.0087</td> \n",
       "        <td id=\"T_69c6cc28_6374_11e8_8bbe_94dbc998ecfcrow6_col12\" class=\"data row6 col12\" >0.017</td> \n",
       "        <td id=\"T_69c6cc28_6374_11e8_8bbe_94dbc998ecfcrow6_col13\" class=\"data row6 col13\" >0.0087</td> \n",
       "        <td id=\"T_69c6cc28_6374_11e8_8bbe_94dbc998ecfcrow6_col14\" class=\"data row6 col14\" >0.0024</td> \n",
       "    </tr>    <tr> \n",
       "        <th id=\"T_69c6cc28_6374_11e8_8bbe_94dbc998ecfclevel0_row7\" class=\"row_heading level0 row7\" >total_eve_charge</th> \n",
       "        <td id=\"T_69c6cc28_6374_11e8_8bbe_94dbc998ecfcrow7_col0\" class=\"data row7 col0\" >-0.0067</td> \n",
       "        <td id=\"T_69c6cc28_6374_11e8_8bbe_94dbc998ecfcrow7_col1\" class=\"data row7 col1\" >0.018</td> \n",
       "        <td id=\"T_69c6cc28_6374_11e8_8bbe_94dbc998ecfcrow7_col2\" class=\"data row7 col2\" >0.007</td> \n",
       "        <td id=\"T_69c6cc28_6374_11e8_8bbe_94dbc998ecfcrow7_col3\" class=\"data row7 col3\" >-0.021</td> \n",
       "        <td id=\"T_69c6cc28_6374_11e8_8bbe_94dbc998ecfcrow7_col4\" class=\"data row7 col4\" >0.007</td> \n",
       "        <td id=\"T_69c6cc28_6374_11e8_8bbe_94dbc998ecfcrow7_col5\" class=\"data row7 col5\" >1</td> \n",
       "        <td id=\"T_69c6cc28_6374_11e8_8bbe_94dbc998ecfcrow7_col6\" class=\"data row7 col6\" >-0.011</td> \n",
       "        <td id=\"T_69c6cc28_6374_11e8_8bbe_94dbc998ecfcrow7_col7\" class=\"data row7 col7\" >1</td> \n",
       "        <td id=\"T_69c6cc28_6374_11e8_8bbe_94dbc998ecfcrow7_col8\" class=\"data row7 col8\" >-0.013</td> \n",
       "        <td id=\"T_69c6cc28_6374_11e8_8bbe_94dbc998ecfcrow7_col9\" class=\"data row7 col9\" >0.0076</td> \n",
       "        <td id=\"T_69c6cc28_6374_11e8_8bbe_94dbc998ecfcrow7_col10\" class=\"data row7 col10\" >-0.013</td> \n",
       "        <td id=\"T_69c6cc28_6374_11e8_8bbe_94dbc998ecfcrow7_col11\" class=\"data row7 col11\" >-0.011</td> \n",
       "        <td id=\"T_69c6cc28_6374_11e8_8bbe_94dbc998ecfcrow7_col12\" class=\"data row7 col12\" >0.0025</td> \n",
       "        <td id=\"T_69c6cc28_6374_11e8_8bbe_94dbc998ecfcrow7_col13\" class=\"data row7 col13\" >-0.011</td> \n",
       "        <td id=\"T_69c6cc28_6374_11e8_8bbe_94dbc998ecfcrow7_col14\" class=\"data row7 col14\" >-0.013</td> \n",
       "    </tr>    <tr> \n",
       "        <th id=\"T_69c6cc28_6374_11e8_8bbe_94dbc998ecfclevel0_row8\" class=\"row_heading level0 row8\" >total_night_minutes</th> \n",
       "        <td id=\"T_69c6cc28_6374_11e8_8bbe_94dbc998ecfcrow8_col0\" class=\"data row8 col0\" >-0.009</td> \n",
       "        <td id=\"T_69c6cc28_6374_11e8_8bbe_94dbc998ecfcrow8_col1\" class=\"data row8 col1\" >0.0077</td> \n",
       "        <td id=\"T_69c6cc28_6374_11e8_8bbe_94dbc998ecfcrow8_col2\" class=\"data row8 col2\" >0.0043</td> \n",
       "        <td id=\"T_69c6cc28_6374_11e8_8bbe_94dbc998ecfcrow8_col3\" class=\"data row8 col3\" >0.023</td> \n",
       "        <td id=\"T_69c6cc28_6374_11e8_8bbe_94dbc998ecfcrow8_col4\" class=\"data row8 col4\" >0.0043</td> \n",
       "        <td id=\"T_69c6cc28_6374_11e8_8bbe_94dbc998ecfcrow8_col5\" class=\"data row8 col5\" >-0.013</td> \n",
       "        <td id=\"T_69c6cc28_6374_11e8_8bbe_94dbc998ecfcrow8_col6\" class=\"data row8 col6\" >-0.0021</td> \n",
       "        <td id=\"T_69c6cc28_6374_11e8_8bbe_94dbc998ecfcrow8_col7\" class=\"data row8 col7\" >-0.013</td> \n",
       "        <td id=\"T_69c6cc28_6374_11e8_8bbe_94dbc998ecfcrow8_col8\" class=\"data row8 col8\" >1</td> \n",
       "        <td id=\"T_69c6cc28_6374_11e8_8bbe_94dbc998ecfcrow8_col9\" class=\"data row8 col9\" >0.011</td> \n",
       "        <td id=\"T_69c6cc28_6374_11e8_8bbe_94dbc998ecfcrow8_col10\" class=\"data row8 col10\" >1</td> \n",
       "        <td id=\"T_69c6cc28_6374_11e8_8bbe_94dbc998ecfcrow8_col11\" class=\"data row8 col11\" >-0.015</td> \n",
       "        <td id=\"T_69c6cc28_6374_11e8_8bbe_94dbc998ecfcrow8_col12\" class=\"data row8 col12\" >-0.012</td> \n",
       "        <td id=\"T_69c6cc28_6374_11e8_8bbe_94dbc998ecfcrow8_col13\" class=\"data row8 col13\" >-0.015</td> \n",
       "        <td id=\"T_69c6cc28_6374_11e8_8bbe_94dbc998ecfcrow8_col14\" class=\"data row8 col14\" >-0.0093</td> \n",
       "    </tr>    <tr> \n",
       "        <th id=\"T_69c6cc28_6374_11e8_8bbe_94dbc998ecfclevel0_row9\" class=\"row_heading level0 row9\" >total_night_calls</th> \n",
       "        <td id=\"T_69c6cc28_6374_11e8_8bbe_94dbc998ecfcrow9_col0\" class=\"data row9 col0\" >-0.013</td> \n",
       "        <td id=\"T_69c6cc28_6374_11e8_8bbe_94dbc998ecfcrow9_col1\" class=\"data row9 col1\" >0.0071</td> \n",
       "        <td id=\"T_69c6cc28_6374_11e8_8bbe_94dbc998ecfcrow9_col2\" class=\"data row9 col2\" >0.023</td> \n",
       "        <td id=\"T_69c6cc28_6374_11e8_8bbe_94dbc998ecfcrow9_col3\" class=\"data row9 col3\" >-0.02</td> \n",
       "        <td id=\"T_69c6cc28_6374_11e8_8bbe_94dbc998ecfcrow9_col4\" class=\"data row9 col4\" >0.023</td> \n",
       "        <td id=\"T_69c6cc28_6374_11e8_8bbe_94dbc998ecfcrow9_col5\" class=\"data row9 col5\" >0.0076</td> \n",
       "        <td id=\"T_69c6cc28_6374_11e8_8bbe_94dbc998ecfcrow9_col6\" class=\"data row9 col6\" >0.0077</td> \n",
       "        <td id=\"T_69c6cc28_6374_11e8_8bbe_94dbc998ecfcrow9_col7\" class=\"data row9 col7\" >0.0076</td> \n",
       "        <td id=\"T_69c6cc28_6374_11e8_8bbe_94dbc998ecfcrow9_col8\" class=\"data row9 col8\" >0.011</td> \n",
       "        <td id=\"T_69c6cc28_6374_11e8_8bbe_94dbc998ecfcrow9_col9\" class=\"data row9 col9\" >1</td> \n",
       "        <td id=\"T_69c6cc28_6374_11e8_8bbe_94dbc998ecfcrow9_col10\" class=\"data row9 col10\" >0.011</td> \n",
       "        <td id=\"T_69c6cc28_6374_11e8_8bbe_94dbc998ecfcrow9_col11\" class=\"data row9 col11\" >-0.014</td> \n",
       "        <td id=\"T_69c6cc28_6374_11e8_8bbe_94dbc998ecfcrow9_col12\" class=\"data row9 col12\" >0.0003</td> \n",
       "        <td id=\"T_69c6cc28_6374_11e8_8bbe_94dbc998ecfcrow9_col13\" class=\"data row9 col13\" >-0.014</td> \n",
       "        <td id=\"T_69c6cc28_6374_11e8_8bbe_94dbc998ecfcrow9_col14\" class=\"data row9 col14\" >-0.013</td> \n",
       "    </tr>    <tr> \n",
       "        <th id=\"T_69c6cc28_6374_11e8_8bbe_94dbc998ecfclevel0_row10\" class=\"row_heading level0 row10\" >total_night_charge</th> \n",
       "        <td id=\"T_69c6cc28_6374_11e8_8bbe_94dbc998ecfcrow10_col0\" class=\"data row10 col0\" >-0.009</td> \n",
       "        <td id=\"T_69c6cc28_6374_11e8_8bbe_94dbc998ecfcrow10_col1\" class=\"data row10 col1\" >0.0077</td> \n",
       "        <td id=\"T_69c6cc28_6374_11e8_8bbe_94dbc998ecfcrow10_col2\" class=\"data row10 col2\" >0.0043</td> \n",
       "        <td id=\"T_69c6cc28_6374_11e8_8bbe_94dbc998ecfcrow10_col3\" class=\"data row10 col3\" >0.023</td> \n",
       "        <td id=\"T_69c6cc28_6374_11e8_8bbe_94dbc998ecfcrow10_col4\" class=\"data row10 col4\" >0.0043</td> \n",
       "        <td id=\"T_69c6cc28_6374_11e8_8bbe_94dbc998ecfcrow10_col5\" class=\"data row10 col5\" >-0.013</td> \n",
       "        <td id=\"T_69c6cc28_6374_11e8_8bbe_94dbc998ecfcrow10_col6\" class=\"data row10 col6\" >-0.0021</td> \n",
       "        <td id=\"T_69c6cc28_6374_11e8_8bbe_94dbc998ecfcrow10_col7\" class=\"data row10 col7\" >-0.013</td> \n",
       "        <td id=\"T_69c6cc28_6374_11e8_8bbe_94dbc998ecfcrow10_col8\" class=\"data row10 col8\" >1</td> \n",
       "        <td id=\"T_69c6cc28_6374_11e8_8bbe_94dbc998ecfcrow10_col9\" class=\"data row10 col9\" >0.011</td> \n",
       "        <td id=\"T_69c6cc28_6374_11e8_8bbe_94dbc998ecfcrow10_col10\" class=\"data row10 col10\" >1</td> \n",
       "        <td id=\"T_69c6cc28_6374_11e8_8bbe_94dbc998ecfcrow10_col11\" class=\"data row10 col11\" >-0.015</td> \n",
       "        <td id=\"T_69c6cc28_6374_11e8_8bbe_94dbc998ecfcrow10_col12\" class=\"data row10 col12\" >-0.012</td> \n",
       "        <td id=\"T_69c6cc28_6374_11e8_8bbe_94dbc998ecfcrow10_col13\" class=\"data row10 col13\" >-0.015</td> \n",
       "        <td id=\"T_69c6cc28_6374_11e8_8bbe_94dbc998ecfcrow10_col14\" class=\"data row10 col14\" >-0.0093</td> \n",
       "    </tr>    <tr> \n",
       "        <th id=\"T_69c6cc28_6374_11e8_8bbe_94dbc998ecfclevel0_row11\" class=\"row_heading level0 row11\" >total_intl_minutes</th> \n",
       "        <td id=\"T_69c6cc28_6374_11e8_8bbe_94dbc998ecfcrow11_col0\" class=\"data row11 col0\" >0.0095</td> \n",
       "        <td id=\"T_69c6cc28_6374_11e8_8bbe_94dbc998ecfcrow11_col1\" class=\"data row11 col1\" >0.0029</td> \n",
       "        <td id=\"T_69c6cc28_6374_11e8_8bbe_94dbc998ecfcrow11_col2\" class=\"data row11 col2\" >-0.01</td> \n",
       "        <td id=\"T_69c6cc28_6374_11e8_8bbe_94dbc998ecfcrow11_col3\" class=\"data row11 col3\" >0.022</td> \n",
       "        <td id=\"T_69c6cc28_6374_11e8_8bbe_94dbc998ecfcrow11_col4\" class=\"data row11 col4\" >-0.01</td> \n",
       "        <td id=\"T_69c6cc28_6374_11e8_8bbe_94dbc998ecfcrow11_col5\" class=\"data row11 col5\" >-0.011</td> \n",
       "        <td id=\"T_69c6cc28_6374_11e8_8bbe_94dbc998ecfcrow11_col6\" class=\"data row11 col6\" >0.0087</td> \n",
       "        <td id=\"T_69c6cc28_6374_11e8_8bbe_94dbc998ecfcrow11_col7\" class=\"data row11 col7\" >-0.011</td> \n",
       "        <td id=\"T_69c6cc28_6374_11e8_8bbe_94dbc998ecfcrow11_col8\" class=\"data row11 col8\" >-0.015</td> \n",
       "        <td id=\"T_69c6cc28_6374_11e8_8bbe_94dbc998ecfcrow11_col9\" class=\"data row11 col9\" >-0.014</td> \n",
       "        <td id=\"T_69c6cc28_6374_11e8_8bbe_94dbc998ecfcrow11_col10\" class=\"data row11 col10\" >-0.015</td> \n",
       "        <td id=\"T_69c6cc28_6374_11e8_8bbe_94dbc998ecfcrow11_col11\" class=\"data row11 col11\" >1</td> \n",
       "        <td id=\"T_69c6cc28_6374_11e8_8bbe_94dbc998ecfcrow11_col12\" class=\"data row11 col12\" >0.032</td> \n",
       "        <td id=\"T_69c6cc28_6374_11e8_8bbe_94dbc998ecfcrow11_col13\" class=\"data row11 col13\" >1</td> \n",
       "        <td id=\"T_69c6cc28_6374_11e8_8bbe_94dbc998ecfcrow11_col14\" class=\"data row11 col14\" >-0.0096</td> \n",
       "    </tr>    <tr> \n",
       "        <th id=\"T_69c6cc28_6374_11e8_8bbe_94dbc998ecfclevel0_row12\" class=\"row_heading level0 row12\" >total_intl_calls</th> \n",
       "        <td id=\"T_69c6cc28_6374_11e8_8bbe_94dbc998ecfcrow12_col0\" class=\"data row12 col0\" >0.021</td> \n",
       "        <td id=\"T_69c6cc28_6374_11e8_8bbe_94dbc998ecfcrow12_col1\" class=\"data row12 col1\" >0.014</td> \n",
       "        <td id=\"T_69c6cc28_6374_11e8_8bbe_94dbc998ecfcrow12_col2\" class=\"data row12 col2\" >0.008</td> \n",
       "        <td id=\"T_69c6cc28_6374_11e8_8bbe_94dbc998ecfcrow12_col3\" class=\"data row12 col3\" >0.0046</td> \n",
       "        <td id=\"T_69c6cc28_6374_11e8_8bbe_94dbc998ecfcrow12_col4\" class=\"data row12 col4\" >0.008</td> \n",
       "        <td id=\"T_69c6cc28_6374_11e8_8bbe_94dbc998ecfcrow12_col5\" class=\"data row12 col5\" >0.0025</td> \n",
       "        <td id=\"T_69c6cc28_6374_11e8_8bbe_94dbc998ecfcrow12_col6\" class=\"data row12 col6\" >0.017</td> \n",
       "        <td id=\"T_69c6cc28_6374_11e8_8bbe_94dbc998ecfcrow12_col7\" class=\"data row12 col7\" >0.0025</td> \n",
       "        <td id=\"T_69c6cc28_6374_11e8_8bbe_94dbc998ecfcrow12_col8\" class=\"data row12 col8\" >-0.012</td> \n",
       "        <td id=\"T_69c6cc28_6374_11e8_8bbe_94dbc998ecfcrow12_col9\" class=\"data row12 col9\" >0.0003</td> \n",
       "        <td id=\"T_69c6cc28_6374_11e8_8bbe_94dbc998ecfcrow12_col10\" class=\"data row12 col10\" >-0.012</td> \n",
       "        <td id=\"T_69c6cc28_6374_11e8_8bbe_94dbc998ecfcrow12_col11\" class=\"data row12 col11\" >0.032</td> \n",
       "        <td id=\"T_69c6cc28_6374_11e8_8bbe_94dbc998ecfcrow12_col12\" class=\"data row12 col12\" >1</td> \n",
       "        <td id=\"T_69c6cc28_6374_11e8_8bbe_94dbc998ecfcrow12_col13\" class=\"data row12 col13\" >0.032</td> \n",
       "        <td id=\"T_69c6cc28_6374_11e8_8bbe_94dbc998ecfcrow12_col14\" class=\"data row12 col14\" >-0.018</td> \n",
       "    </tr>    <tr> \n",
       "        <th id=\"T_69c6cc28_6374_11e8_8bbe_94dbc998ecfclevel0_row13\" class=\"row_heading level0 row13\" >total_intl_charge</th> \n",
       "        <td id=\"T_69c6cc28_6374_11e8_8bbe_94dbc998ecfcrow13_col0\" class=\"data row13 col0\" >0.0095</td> \n",
       "        <td id=\"T_69c6cc28_6374_11e8_8bbe_94dbc998ecfcrow13_col1\" class=\"data row13 col1\" >0.0029</td> \n",
       "        <td id=\"T_69c6cc28_6374_11e8_8bbe_94dbc998ecfcrow13_col2\" class=\"data row13 col2\" >-0.01</td> \n",
       "        <td id=\"T_69c6cc28_6374_11e8_8bbe_94dbc998ecfcrow13_col3\" class=\"data row13 col3\" >0.022</td> \n",
       "        <td id=\"T_69c6cc28_6374_11e8_8bbe_94dbc998ecfcrow13_col4\" class=\"data row13 col4\" >-0.01</td> \n",
       "        <td id=\"T_69c6cc28_6374_11e8_8bbe_94dbc998ecfcrow13_col5\" class=\"data row13 col5\" >-0.011</td> \n",
       "        <td id=\"T_69c6cc28_6374_11e8_8bbe_94dbc998ecfcrow13_col6\" class=\"data row13 col6\" >0.0087</td> \n",
       "        <td id=\"T_69c6cc28_6374_11e8_8bbe_94dbc998ecfcrow13_col7\" class=\"data row13 col7\" >-0.011</td> \n",
       "        <td id=\"T_69c6cc28_6374_11e8_8bbe_94dbc998ecfcrow13_col8\" class=\"data row13 col8\" >-0.015</td> \n",
       "        <td id=\"T_69c6cc28_6374_11e8_8bbe_94dbc998ecfcrow13_col9\" class=\"data row13 col9\" >-0.014</td> \n",
       "        <td id=\"T_69c6cc28_6374_11e8_8bbe_94dbc998ecfcrow13_col10\" class=\"data row13 col10\" >-0.015</td> \n",
       "        <td id=\"T_69c6cc28_6374_11e8_8bbe_94dbc998ecfcrow13_col11\" class=\"data row13 col11\" >1</td> \n",
       "        <td id=\"T_69c6cc28_6374_11e8_8bbe_94dbc998ecfcrow13_col12\" class=\"data row13 col12\" >0.032</td> \n",
       "        <td id=\"T_69c6cc28_6374_11e8_8bbe_94dbc998ecfcrow13_col13\" class=\"data row13 col13\" >1</td> \n",
       "        <td id=\"T_69c6cc28_6374_11e8_8bbe_94dbc998ecfcrow13_col14\" class=\"data row13 col14\" >-0.0097</td> \n",
       "    </tr>    <tr> \n",
       "        <th id=\"T_69c6cc28_6374_11e8_8bbe_94dbc998ecfclevel0_row14\" class=\"row_heading level0 row14\" >number_customer_service_calls</th> \n",
       "        <td id=\"T_69c6cc28_6374_11e8_8bbe_94dbc998ecfcrow14_col0\" class=\"data row14 col0\" >-0.0038</td> \n",
       "        <td id=\"T_69c6cc28_6374_11e8_8bbe_94dbc998ecfcrow14_col1\" class=\"data row14 col1\" >-0.013</td> \n",
       "        <td id=\"T_69c6cc28_6374_11e8_8bbe_94dbc998ecfcrow14_col2\" class=\"data row14 col2\" >-0.013</td> \n",
       "        <td id=\"T_69c6cc28_6374_11e8_8bbe_94dbc998ecfcrow14_col3\" class=\"data row14 col3\" >-0.019</td> \n",
       "        <td id=\"T_69c6cc28_6374_11e8_8bbe_94dbc998ecfcrow14_col4\" class=\"data row14 col4\" >-0.013</td> \n",
       "        <td id=\"T_69c6cc28_6374_11e8_8bbe_94dbc998ecfcrow14_col5\" class=\"data row14 col5\" >-0.013</td> \n",
       "        <td id=\"T_69c6cc28_6374_11e8_8bbe_94dbc998ecfcrow14_col6\" class=\"data row14 col6\" >0.0024</td> \n",
       "        <td id=\"T_69c6cc28_6374_11e8_8bbe_94dbc998ecfcrow14_col7\" class=\"data row14 col7\" >-0.013</td> \n",
       "        <td id=\"T_69c6cc28_6374_11e8_8bbe_94dbc998ecfcrow14_col8\" class=\"data row14 col8\" >-0.0093</td> \n",
       "        <td id=\"T_69c6cc28_6374_11e8_8bbe_94dbc998ecfcrow14_col9\" class=\"data row14 col9\" >-0.013</td> \n",
       "        <td id=\"T_69c6cc28_6374_11e8_8bbe_94dbc998ecfcrow14_col10\" class=\"data row14 col10\" >-0.0093</td> \n",
       "        <td id=\"T_69c6cc28_6374_11e8_8bbe_94dbc998ecfcrow14_col11\" class=\"data row14 col11\" >-0.0096</td> \n",
       "        <td id=\"T_69c6cc28_6374_11e8_8bbe_94dbc998ecfcrow14_col12\" class=\"data row14 col12\" >-0.018</td> \n",
       "        <td id=\"T_69c6cc28_6374_11e8_8bbe_94dbc998ecfcrow14_col13\" class=\"data row14 col13\" >-0.0097</td> \n",
       "        <td id=\"T_69c6cc28_6374_11e8_8bbe_94dbc998ecfcrow14_col14\" class=\"data row14 col14\" >1</td> \n",
       "    </tr></tbody> \n",
       "</table> "
      ],
      "text/plain": [
       "<pandas.io.formats.style.Styler at 0x22b41fdcf60>"
      ]
     },
     "execution_count": 14,
     "metadata": {},
     "output_type": "execute_result"
    }
   ],
   "source": [
    "churn_corr = train_data.corr()\n",
    "cmap = cmap=sns.diverging_palette(5, 250, as_cmap=True)\n",
    "\n",
    "def magnify():\n",
    "    return [dict(selector=\"th\",\n",
    "                 props=[(\"font-size\", \"7pt\")]),\n",
    "            dict(selector=\"td\",\n",
    "                 props=[('padding', \"0em 0em\")]),\n",
    "            dict(selector=\"th:hover\",\n",
    "                 props=[(\"font-size\", \"12pt\")]),\n",
    "            dict(selector=\"tr:hover td:hover\",\n",
    "                 props=[('max-width', '200px'),\n",
    "                        ('font-size', '12pt')])\n",
    "]\n",
    "\n",
    "churn_corr.style.background_gradient(cmap, axis=1)\\\n",
    "    .set_properties(**{'max-width': '90px', 'font-size': '10pt'})\\\n",
    "    .set_caption(\"Correlation matrix\")\\\n",
    "    .set_precision(2)\\\n",
    "    .set_table_styles(magnify())\n"
   ]
  },
  {
   "cell_type": "markdown",
   "metadata": {},
   "source": [
    "### From corrplot we can see that dataset consist of multicollinearity\n",
    "1. total.day.minutes and total.day.charge are highly collinear\n",
    "2. total.eve.minutes and total.eve.charge are highly collinear\n",
    "3. total.night.minutes and total.night.charge are highly collinear\n",
    "4. total.intl.minutes and total.intl.charge are highly collinear\n",
    "\n",
    "Multi-collinearity voilates the assumption of logistic regression. So we will be removing one of these predictors \n",
    "from the model. "
   ]
  },
  {
   "cell_type": "markdown",
   "metadata": {},
   "source": [
    "### 4. Exploring continous predictors"
   ]
  },
  {
   "cell_type": "code",
   "execution_count": 15,
   "metadata": {},
   "outputs": [],
   "source": [
    "# function for exploring distributions by continuous predictors with there summary stats\n",
    "def countPred_eda(train_data, variableName, targetVariable):\n",
    "    print(train_data[variableName].describe())\n",
    "    return ggplot(train_data) + \\\n",
    "    aes(targetVariable, variableName, fill = targetVariable) + geom_boxplot(alpha = .8, outlier_color = \"green\") + \\\n",
    "    labs(x =  targetVariable, y = variableName) + \\\n",
    "    ggtitle(\"Churn ratio with \"+ variableName) + \\\n",
    "    theme(figure_size=(6, 4))\n",
    "     \n",
    "    "
   ]
  },
  {
   "cell_type": "code",
   "execution_count": 16,
   "metadata": {},
   "outputs": [
    {
     "name": "stdout",
     "output_type": "stream",
     "text": [
      "count    3333.000000\n",
      "mean      179.775098\n",
      "std        54.467389\n",
      "min         0.000000\n",
      "25%       143.700000\n",
      "50%       179.400000\n",
      "75%       216.400000\n",
      "max       350.800000\n",
      "Name: total_day_minutes, dtype: float64\n"
     ]
    },
    {
     "data": {
      "image/png": "[encoded data removed]",
      "text/plain": [
       "<Figure size 600x400 with 1 Axes>"
      ]
     },
     "metadata": {},
     "output_type": "display_data"
    },
    {
     "data": {
      "text/plain": [
       "<ggplot: (-9223371887803824282)>"
      ]
     },
     "execution_count": 16,
     "metadata": {},
     "output_type": "execute_result"
    }
   ],
   "source": [
    "# --- total_day_minutes --- #\n",
    "countPred_eda(train_data,'total_day_minutes','churn')"
   ]
  },
  {
   "cell_type": "markdown",
   "metadata": {},
   "source": [
    "#### It is evident from above plot that churn rate is higher when count of total_day_minute is higher"
   ]
  },
  {
   "cell_type": "code",
   "execution_count": 17,
   "metadata": {},
   "outputs": [
    {
     "name": "stdout",
     "output_type": "stream",
     "text": [
      "count    3333.000000\n",
      "mean      100.435644\n",
      "std        20.069084\n",
      "min         0.000000\n",
      "25%        87.000000\n",
      "50%       101.000000\n",
      "75%       114.000000\n",
      "max       165.000000\n",
      "Name: total_day_calls, dtype: float64\n"
     ]
    },
    {
     "data": {
      "image/png": "[encoded data removed]",
      "text/plain": [
       "<Figure size 600x400 with 1 Axes>"
      ]
     },
     "metadata": {},
     "output_type": "display_data"
    },
    {
     "data": {
      "text/plain": [
       "<ggplot: (149052182213)>"
      ]
     },
     "execution_count": 17,
     "metadata": {},
     "output_type": "execute_result"
    }
   ],
   "source": [
    "# --- total_day_calls ---- #\n",
    "countPred_eda(train_data,'total_day_calls','churn')"
   ]
  },
  {
   "cell_type": "code",
   "execution_count": 18,
   "metadata": {},
   "outputs": [
    {
     "name": "stdout",
     "output_type": "stream",
     "text": [
      "count    3333.000000\n",
      "mean       30.562307\n",
      "std         9.259435\n",
      "min         0.000000\n",
      "25%        24.430000\n",
      "50%        30.500000\n",
      "75%        36.790000\n",
      "max        59.640000\n",
      "Name: total_day_charge, dtype: float64\n"
     ]
    },
    {
     "data": {
      "image/png": "[encoded data removed]",
      "text/plain": [
       "<Figure size 600x400 with 1 Axes>"
      ]
     },
     "metadata": {},
     "output_type": "display_data"
    },
    {
     "data": {
      "text/plain": [
       "<ggplot: (149052216005)>"
      ]
     },
     "execution_count": 18,
     "metadata": {},
     "output_type": "execute_result"
    }
   ],
   "source": [
    "# --- total_day_charge --- #\n",
    "countPred_eda(train_data,'total_day_charge','churn')\n"
   ]
  },
  {
   "cell_type": "code",
   "execution_count": 19,
   "metadata": {},
   "outputs": [
    {
     "name": "stdout",
     "output_type": "stream",
     "text": [
      "count    3333.000000\n",
      "mean      200.980348\n",
      "std        50.713844\n",
      "min         0.000000\n",
      "25%       166.600000\n",
      "50%       201.400000\n",
      "75%       235.300000\n",
      "max       363.700000\n",
      "Name: total_eve_minutes, dtype: float64\n"
     ]
    },
    {
     "data": {
      "image/png": "[encoded data removed]",
      "text/plain": [
       "<Figure size 600x400 with 1 Axes>"
      ]
     },
     "metadata": {},
     "output_type": "display_data"
    },
    {
     "data": {
      "text/plain": [
       "<ggplot: (-9223371887802643063)>"
      ]
     },
     "execution_count": 19,
     "metadata": {},
     "output_type": "execute_result"
    }
   ],
   "source": [
    "# --- total_eve_minutes --- #\n",
    "countPred_eda(train_data,'total_eve_minutes','churn')\n"
   ]
  },
  {
   "cell_type": "code",
   "execution_count": 20,
   "metadata": {},
   "outputs": [
    {
     "name": "stdout",
     "output_type": "stream",
     "text": [
      "count    3333.000000\n",
      "mean      100.114311\n",
      "std        19.922625\n",
      "min         0.000000\n",
      "25%        87.000000\n",
      "50%       100.000000\n",
      "75%       114.000000\n",
      "max       170.000000\n",
      "Name: total_eve_calls, dtype: float64\n"
     ]
    },
    {
     "data": {
      "image/png": "[encoded data removed]",
      "text/plain": [
       "<Figure size 600x400 with 1 Axes>"
      ]
     },
     "metadata": {},
     "output_type": "display_data"
    },
    {
     "data": {
      "text/plain": [
       "<ggplot: (-9223371887802500727)>"
      ]
     },
     "execution_count": 20,
     "metadata": {},
     "output_type": "execute_result"
    }
   ],
   "source": [
    "# --- total_eve_calls --- #\n",
    "countPred_eda(train_data,'total_eve_calls','churn')\n"
   ]
  },
  {
   "cell_type": "code",
   "execution_count": 21,
   "metadata": {},
   "outputs": [
    {
     "name": "stdout",
     "output_type": "stream",
     "text": [
      "count    3333.000000\n",
      "mean       17.083540\n",
      "std         4.310668\n",
      "min         0.000000\n",
      "25%        14.160000\n",
      "50%        17.120000\n",
      "75%        20.000000\n",
      "max        30.910000\n",
      "Name: total_eve_charge, dtype: float64\n"
     ]
    },
    {
     "data": {
      "image/png": "[encoded data removed]",
      "text/plain": [
       "<Figure size 600x400 with 1 Axes>"
      ]
     },
     "metadata": {},
     "output_type": "display_data"
    },
    {
     "data": {
      "text/plain": [
       "<ggplot: (149052314772)>"
      ]
     },
     "execution_count": 21,
     "metadata": {},
     "output_type": "execute_result"
    }
   ],
   "source": [
    "# --- total_eve_charge --- #\n",
    "countPred_eda(train_data,'total_eve_charge','churn')\n"
   ]
  },
  {
   "cell_type": "code",
   "execution_count": 22,
   "metadata": {},
   "outputs": [
    {
     "name": "stdout",
     "output_type": "stream",
     "text": [
      "count    3333.000000\n",
      "mean      200.872037\n",
      "std        50.573847\n",
      "min        23.200000\n",
      "25%       167.000000\n",
      "50%       201.200000\n",
      "75%       235.300000\n",
      "max       395.000000\n",
      "Name: total_night_minutes, dtype: float64\n"
     ]
    },
    {
     "data": {
      "image/png": "[encoded data removed]",
      "text/plain": [
       "<Figure size 600x400 with 1 Axes>"
      ]
     },
     "metadata": {},
     "output_type": "display_data"
    },
    {
     "data": {
      "text/plain": [
       "<ggplot: (-9223371887802474808)>"
      ]
     },
     "execution_count": 22,
     "metadata": {},
     "output_type": "execute_result"
    }
   ],
   "source": [
    "# --- total_night_minutes --- #\n",
    "countPred_eda(train_data,'total_night_minutes','churn')\n"
   ]
  },
  {
   "cell_type": "code",
   "execution_count": 23,
   "metadata": {},
   "outputs": [
    {
     "name": "stdout",
     "output_type": "stream",
     "text": [
      "count    3333.000000\n",
      "mean      100.107711\n",
      "std        19.568609\n",
      "min        33.000000\n",
      "25%        87.000000\n",
      "50%       100.000000\n",
      "75%       113.000000\n",
      "max       175.000000\n",
      "Name: total_night_calls, dtype: float64\n"
     ]
    },
    {
     "data": {
      "image/png": "[encoded data removed]",
      "text/plain": [
       "<Figure size 600x400 with 1 Axes>"
      ]
     },
     "metadata": {},
     "output_type": "display_data"
    },
    {
     "data": {
      "text/plain": [
       "<ggplot: (-9223371887802393705)>"
      ]
     },
     "execution_count": 23,
     "metadata": {},
     "output_type": "execute_result"
    }
   ],
   "source": [
    "# --- total_night_calls --- #\n",
    "countPred_eda(train_data,'total_night_calls','churn')\n"
   ]
  },
  {
   "cell_type": "code",
   "execution_count": 24,
   "metadata": {},
   "outputs": [
    {
     "name": "stdout",
     "output_type": "stream",
     "text": [
      "count    3333.000000\n",
      "mean        9.039325\n",
      "std         2.275873\n",
      "min         1.040000\n",
      "25%         7.520000\n",
      "50%         9.050000\n",
      "75%        10.590000\n",
      "max        17.770000\n",
      "Name: total_night_charge, dtype: float64\n"
     ]
    },
    {
     "data": {
      "image/png": "[encoded data removed]",
      "text/plain": [
       "<Figure size 600x400 with 1 Axes>"
      ]
     },
     "metadata": {},
     "output_type": "display_data"
    },
    {
     "data": {
      "text/plain": [
       "<ggplot: (149052413851)>"
      ]
     },
     "execution_count": 24,
     "metadata": {},
     "output_type": "execute_result"
    }
   ],
   "source": [
    "# --- total_night_charge --- #\n",
    "countPred_eda(train_data,'total_night_charge','churn')\n"
   ]
  },
  {
   "cell_type": "code",
   "execution_count": 25,
   "metadata": {},
   "outputs": [
    {
     "name": "stdout",
     "output_type": "stream",
     "text": [
      "count    3333.000000\n",
      "mean       10.237294\n",
      "std         2.791840\n",
      "min         0.000000\n",
      "25%         8.500000\n",
      "50%        10.300000\n",
      "75%        12.100000\n",
      "max        20.000000\n",
      "Name: total_intl_minutes, dtype: float64\n"
     ]
    },
    {
     "data": {
      "image/png": "[encoded data removed]",
      "text/plain": [
       "<Figure size 600x400 with 1 Axes>"
      ]
     },
     "metadata": {},
     "output_type": "display_data"
    },
    {
     "data": {
      "text/plain": [
       "<ggplot: (-9223371887802344234)>"
      ]
     },
     "execution_count": 25,
     "metadata": {},
     "output_type": "execute_result"
    }
   ],
   "source": [
    "# --- total_intl_minutes --- #\n",
    "countPred_eda(train_data,'total_intl_minutes','churn')\n"
   ]
  },
  {
   "cell_type": "code",
   "execution_count": 26,
   "metadata": {},
   "outputs": [
    {
     "name": "stdout",
     "output_type": "stream",
     "text": [
      "count    3333.000000\n",
      "mean        4.479448\n",
      "std         2.461214\n",
      "min         0.000000\n",
      "25%         3.000000\n",
      "50%         4.000000\n",
      "75%         6.000000\n",
      "max        20.000000\n",
      "Name: total_intl_calls, dtype: float64\n"
     ]
    },
    {
     "data": {
      "image/png": "[encoded data removed]",
      "text/plain": [
       "<Figure size 600x400 with 1 Axes>"
      ]
     },
     "metadata": {},
     "output_type": "display_data"
    },
    {
     "data": {
      "text/plain": [
       "<ggplot: (149052434173)>"
      ]
     },
     "execution_count": 26,
     "metadata": {},
     "output_type": "execute_result"
    }
   ],
   "source": [
    "# --- total_intl_calls --- #\n",
    "countPred_eda(train_data,'total_intl_calls','churn')\n"
   ]
  },
  {
   "cell_type": "code",
   "execution_count": 27,
   "metadata": {},
   "outputs": [
    {
     "name": "stdout",
     "output_type": "stream",
     "text": [
      "count    3333.000000\n",
      "mean        2.764581\n",
      "std         0.753773\n",
      "min         0.000000\n",
      "25%         2.300000\n",
      "50%         2.780000\n",
      "75%         3.270000\n",
      "max         5.400000\n",
      "Name: total_intl_charge, dtype: float64\n"
     ]
    },
    {
     "data": {
      "image/png": "[encoded data removed]",
      "text/plain": [
       "<Figure size 600x400 with 1 Axes>"
      ]
     },
     "metadata": {},
     "output_type": "display_data"
    },
    {
     "data": {
      "text/plain": [
       "<ggplot: (-9223371887802393817)>"
      ]
     },
     "execution_count": 27,
     "metadata": {},
     "output_type": "execute_result"
    }
   ],
   "source": [
    "# --- total_intl_charge --- #\n",
    "countPred_eda(train_data,'total_intl_charge','churn')"
   ]
  },
  {
   "cell_type": "code",
   "execution_count": 28,
   "metadata": {},
   "outputs": [
    {
     "name": "stdout",
     "output_type": "stream",
     "text": [
      "count    3333.000000\n",
      "mean        1.562856\n",
      "std         1.315491\n",
      "min         0.000000\n",
      "25%         1.000000\n",
      "50%         1.000000\n",
      "75%         2.000000\n",
      "max         9.000000\n",
      "Name: number_customer_service_calls, dtype: float64\n"
     ]
    },
    {
     "data": {
      "image/png": "[encoded data removed]",
      "text/plain": [
       "<Figure size 600x400 with 1 Axes>"
      ]
     },
     "metadata": {},
     "output_type": "display_data"
    },
    {
     "data": {
      "text/plain": [
       "<ggplot: (149052284708)>"
      ]
     },
     "execution_count": 28,
     "metadata": {},
     "output_type": "execute_result"
    }
   ],
   "source": [
    "# --- number_customer_service_calls --- #\n",
    "countPred_eda(train_data,'number_customer_service_calls','churn')"
   ]
  },
  {
   "cell_type": "code",
   "execution_count": 29,
   "metadata": {},
   "outputs": [],
   "source": [
    "# Removing highly collinear variables from train and test\n",
    "train_data = train_data.drop(['total_day_charge','total_eve_charge','total_night_charge', 'total_intl_charge'], axis = 1)\n",
    "test_data = test_data.drop(['total_day_charge','total_eve_charge','total_night_charge', 'total_intl_charge'], axis = 1)\n"
   ]
  },
  {
   "cell_type": "code",
   "execution_count": 30,
   "metadata": {},
   "outputs": [],
   "source": [
    "# encoding target variables \n",
    "le = LabelEncoder()\n",
    "# for train data\n",
    "train_data.churn = le.fit_transform(train_data.churn)\n",
    "# for test data\n",
    "test_data.churn = le.fit_transform(test_data.churn)"
   ]
  },
  {
   "cell_type": "code",
   "execution_count": 31,
   "metadata": {},
   "outputs": [],
   "source": [
    "# Encoding categorical variables\n",
    "# for train data\n",
    "train_data.international_plan = le.fit_transform(train_data.international_plan)\n",
    "train_data.voice_mail_plan = le.fit_transform(train_data.voice_mail_plan)\n",
    "\n",
    "# for test data\n",
    "test_data.international_plan = le.fit_transform(test_data.international_plan)\n",
    "test_data.voice_mail_plan = le.fit_transform(test_data.voice_mail_plan)\n"
   ]
  },
  {
   "cell_type": "code",
   "execution_count": 32,
   "metadata": {},
   "outputs": [
    {
     "data": {
      "text/html": [
       "<div>\n",
       "<style scoped>\n",
       "    .dataframe tbody tr th:only-of-type {\n",
       "        vertical-align: middle;\n",
       "    }\n",
       "\n",
       "    .dataframe tbody tr th {\n",
       "        vertical-align: top;\n",
       "    }\n",
       "\n",
       "    .dataframe thead th {\n",
       "        text-align: right;\n",
       "    }\n",
       "</style>\n",
       "<table border=\"1\" class=\"dataframe\">\n",
       "  <thead>\n",
       "    <tr style=\"text-align: right;\">\n",
       "      <th></th>\n",
       "      <th>account_length</th>\n",
       "      <th>international_plan</th>\n",
       "      <th>voice_mail_plan</th>\n",
       "      <th>number_vmail_messages</th>\n",
       "      <th>total_day_minutes</th>\n",
       "      <th>total_day_calls</th>\n",
       "      <th>total_eve_minutes</th>\n",
       "      <th>total_eve_calls</th>\n",
       "      <th>total_night_minutes</th>\n",
       "      <th>total_night_calls</th>\n",
       "      <th>total_intl_minutes</th>\n",
       "      <th>total_intl_calls</th>\n",
       "      <th>number_customer_service_calls</th>\n",
       "      <th>churn</th>\n",
       "    </tr>\n",
       "  </thead>\n",
       "  <tbody>\n",
       "    <tr>\n",
       "      <th>0</th>\n",
       "      <td>101</td>\n",
       "      <td>0</td>\n",
       "      <td>0</td>\n",
       "      <td>0</td>\n",
       "      <td>70.9</td>\n",
       "      <td>123</td>\n",
       "      <td>211.9</td>\n",
       "      <td>73</td>\n",
       "      <td>236.0</td>\n",
       "      <td>73</td>\n",
       "      <td>10.6</td>\n",
       "      <td>3</td>\n",
       "      <td>3</td>\n",
       "      <td>0</td>\n",
       "    </tr>\n",
       "    <tr>\n",
       "      <th>1</th>\n",
       "      <td>137</td>\n",
       "      <td>0</td>\n",
       "      <td>0</td>\n",
       "      <td>0</td>\n",
       "      <td>223.6</td>\n",
       "      <td>86</td>\n",
       "      <td>244.8</td>\n",
       "      <td>139</td>\n",
       "      <td>94.2</td>\n",
       "      <td>81</td>\n",
       "      <td>9.5</td>\n",
       "      <td>7</td>\n",
       "      <td>0</td>\n",
       "      <td>0</td>\n",
       "    </tr>\n",
       "    <tr>\n",
       "      <th>2</th>\n",
       "      <td>103</td>\n",
       "      <td>0</td>\n",
       "      <td>1</td>\n",
       "      <td>29</td>\n",
       "      <td>294.7</td>\n",
       "      <td>95</td>\n",
       "      <td>237.3</td>\n",
       "      <td>105</td>\n",
       "      <td>300.3</td>\n",
       "      <td>127</td>\n",
       "      <td>13.7</td>\n",
       "      <td>6</td>\n",
       "      <td>1</td>\n",
       "      <td>0</td>\n",
       "    </tr>\n",
       "    <tr>\n",
       "      <th>3</th>\n",
       "      <td>99</td>\n",
       "      <td>0</td>\n",
       "      <td>0</td>\n",
       "      <td>0</td>\n",
       "      <td>216.8</td>\n",
       "      <td>123</td>\n",
       "      <td>126.4</td>\n",
       "      <td>88</td>\n",
       "      <td>220.6</td>\n",
       "      <td>82</td>\n",
       "      <td>15.7</td>\n",
       "      <td>2</td>\n",
       "      <td>1</td>\n",
       "      <td>0</td>\n",
       "    </tr>\n",
       "    <tr>\n",
       "      <th>4</th>\n",
       "      <td>108</td>\n",
       "      <td>0</td>\n",
       "      <td>0</td>\n",
       "      <td>0</td>\n",
       "      <td>197.4</td>\n",
       "      <td>78</td>\n",
       "      <td>124.0</td>\n",
       "      <td>101</td>\n",
       "      <td>204.5</td>\n",
       "      <td>107</td>\n",
       "      <td>7.7</td>\n",
       "      <td>4</td>\n",
       "      <td>2</td>\n",
       "      <td>0</td>\n",
       "    </tr>\n",
       "  </tbody>\n",
       "</table>\n",
       "</div>"
      ],
      "text/plain": [
       "   account_length  international_plan  voice_mail_plan  number_vmail_messages  \\\n",
       "0             101                   0                0                      0   \n",
       "1             137                   0                0                      0   \n",
       "2             103                   0                1                     29   \n",
       "3              99                   0                0                      0   \n",
       "4             108                   0                0                      0   \n",
       "\n",
       "   total_day_minutes  total_day_calls  total_eve_minutes  total_eve_calls  \\\n",
       "0               70.9              123              211.9               73   \n",
       "1              223.6               86              244.8              139   \n",
       "2              294.7               95              237.3              105   \n",
       "3              216.8              123              126.4               88   \n",
       "4              197.4               78              124.0              101   \n",
       "\n",
       "   total_night_minutes  total_night_calls  total_intl_minutes  \\\n",
       "0                236.0                 73                10.6   \n",
       "1                 94.2                 81                 9.5   \n",
       "2                300.3                127                13.7   \n",
       "3                220.6                 82                15.7   \n",
       "4                204.5                107                 7.7   \n",
       "\n",
       "   total_intl_calls  number_customer_service_calls  churn  \n",
       "0                 3                              3      0  \n",
       "1                 7                              0      0  \n",
       "2                 6                              1      0  \n",
       "3                 2                              1      0  \n",
       "4                 4                              2      0  "
      ]
     },
     "execution_count": 32,
     "metadata": {},
     "output_type": "execute_result"
    }
   ],
   "source": [
    "test_data.head()\n"
   ]
  },
  {
   "cell_type": "code",
   "execution_count": 33,
   "metadata": {},
   "outputs": [
    {
     "data": {
      "text/plain": [
       "0    2850\n",
       "1     483\n",
       "Name: churn, dtype: int64"
      ]
     },
     "execution_count": 33,
     "metadata": {},
     "output_type": "execute_result"
    }
   ],
   "source": [
    "train_data.churn.value_counts()"
   ]
  },
  {
   "cell_type": "code",
   "execution_count": 34,
   "metadata": {},
   "outputs": [],
   "source": [
    "# selecting predictors\n",
    "train_feature_space = train_data.iloc[:,train_data.columns != 'churn']\n",
    "# selecting target class\n",
    "target_class = train_data.iloc[:,train_data.columns == 'churn']\n"
   ]
  },
  {
   "cell_type": "code",
   "execution_count": 35,
   "metadata": {},
   "outputs": [],
   "source": [
    "# creating training and validation set\n",
    "training_set, validation_set, train_taget, validation_target = train_test_split(train_feature_space,\n",
    "                                                                    target_class,\n",
    "                                                                    test_size = 0.30, \n",
    "                                                                    random_state = 456)\n",
    "\n",
    "# Cleaning test sets to avoid future warning messages\n",
    "train_taget = train_taget.values.ravel() \n",
    "validation_target = validation_target.values.ravel() \n"
   ]
  },
  {
   "cell_type": "code",
   "execution_count": 36,
   "metadata": {},
   "outputs": [],
   "source": [
    "# logistic regression classifier \n",
    "classifier_logit_default = LogisticRegression(random_state=456)\n"
   ]
  },
  {
   "cell_type": "code",
   "execution_count": 37,
   "metadata": {},
   "outputs": [
    {
     "data": {
      "text/plain": [
       "LogisticRegression(C=1.0, class_weight=None, dual=False, fit_intercept=True,\n",
       "          intercept_scaling=1, max_iter=100, multi_class='ovr', n_jobs=1,\n",
       "          penalty='l2', random_state=456, solver='liblinear', tol=0.0001,\n",
       "          verbose=0, warm_start=False)"
      ]
     },
     "execution_count": 37,
     "metadata": {},
     "output_type": "execute_result"
    }
   ],
   "source": [
    "classifier_logit_default.fit(training_set, train_taget)"
   ]
  },
  {
   "cell_type": "code",
   "execution_count": 38,
   "metadata": {},
   "outputs": [],
   "source": [
    "# Predicting the validation set results \n",
    "validation_prediction = classifier_logit_default.predict(validation_set)"
   ]
  },
  {
   "cell_type": "code",
   "execution_count": 39,
   "metadata": {},
   "outputs": [],
   "source": [
    "# confusion matrix for validation set\n",
    "validation_logit_crosstb = pd.crosstab(index = validation_target,\n",
    "                           columns = validation_prediction)\n",
    "validation_logit_crosstb = validation_logit_crosstb.rename(columns= {0: 'False', 1: 'True'})\n",
    "validation_logit_crosstb.index = ['False', 'True']\n",
    "validation_logit_crosstb.columns.name = 'n = 1000'"
   ]
  },
  {
   "cell_type": "code",
   "execution_count": 40,
   "metadata": {},
   "outputs": [
    {
     "data": {
      "text/html": [
       "<div>\n",
       "<style scoped>\n",
       "    .dataframe tbody tr th:only-of-type {\n",
       "        vertical-align: middle;\n",
       "    }\n",
       "\n",
       "    .dataframe tbody tr th {\n",
       "        vertical-align: top;\n",
       "    }\n",
       "\n",
       "    .dataframe thead th {\n",
       "        text-align: right;\n",
       "    }\n",
       "</style>\n",
       "<table border=\"1\" class=\"dataframe\">\n",
       "  <thead>\n",
       "    <tr style=\"text-align: right;\">\n",
       "      <th>n = 1000</th>\n",
       "      <th>False</th>\n",
       "      <th>True</th>\n",
       "    </tr>\n",
       "  </thead>\n",
       "  <tbody>\n",
       "    <tr>\n",
       "      <th>False</th>\n",
       "      <td>825</td>\n",
       "      <td>25</td>\n",
       "    </tr>\n",
       "    <tr>\n",
       "      <th>True</th>\n",
       "      <td>118</td>\n",
       "      <td>32</td>\n",
       "    </tr>\n",
       "  </tbody>\n",
       "</table>\n",
       "</div>"
      ],
      "text/plain": [
       "n = 1000  False  True\n",
       "False       825    25\n",
       "True        118    32"
      ]
     },
     "execution_count": 40,
     "metadata": {},
     "output_type": "execute_result"
    }
   ],
   "source": [
    "validation_logit_crosstb"
   ]
  },
  {
   "cell_type": "code",
   "execution_count": 41,
   "metadata": {},
   "outputs": [
    {
     "name": "stdout",
     "output_type": "stream",
     "text": [
      "             precision    recall  f1-score   support\n",
      "\n",
      "          0       0.97      0.87      0.92       943\n",
      "          1       0.21      0.56      0.31        57\n",
      "\n",
      "avg / total       0.93      0.86      0.89      1000\n",
      "\n"
     ]
    }
   ],
   "source": [
    "#classification report on validation set\n",
    "target_names =[0,1]\n",
    "\n",
    "validation_report = classification_report(validation_prediction, validation_target,  target_names )\n",
    "print(validation_report)"
   ]
  },
  {
   "cell_type": "code",
   "execution_count": 42,
   "metadata": {},
   "outputs": [
    {
     "name": "stdout",
     "output_type": "stream",
     "text": [
      " Mean accuracy on validation set 0.857\n"
     ]
    }
   ],
   "source": [
    "mean_accuracy_validation = classifier_logit_default.score(validation_set, validation_target)\n",
    "print(' Mean accuracy on validation set',mean_accuracy_validation)"
   ]
  },
  {
   "cell_type": "code",
   "execution_count": 43,
   "metadata": {},
   "outputs": [
    {
     "name": "stdout",
     "output_type": "stream",
     "text": [
      " Test error rate on validation set 0.143\n"
     ]
    }
   ],
   "source": [
    "# calculating test error rate on validation set\n",
    "test_error_rate = 1 - mean_accuracy_validation\n",
    "print(' Test error rate on validation set',test_error_rate)"
   ]
  },
  {
   "cell_type": "markdown",
   "metadata": {},
   "source": [
    "From the confusion matrix we can see that high accuracy of model is due to disproportionate number of non-churn \n",
    "customers predicted correctly. The This model is working great for identifing non churning customer but performing poorly for \n",
    "churning customers. We will tune the model to increase accuracy on churning customer. "
   ]
  },
  {
   "cell_type": "code",
   "execution_count": 44,
   "metadata": {},
   "outputs": [
    {
     "name": "stdout",
     "output_type": "stream",
     "text": [
      "Best parameter :{'C': 3} Best score :0.7711101585940848\n"
     ]
    }
   ],
   "source": [
    "# model 2\n",
    "classifier_logit_2 = LogisticRegression(class_weight='balanced') \n",
    "\n",
    "\n",
    "param = {'C':[0.001,0.005,0.01,0.05,0.1,0.5,1,1.5,2,3]} \n",
    "#rs_cv = RandomizedSearchCV(estimator=classifier_logit_2, cv = 10,\n",
    "                            #n_iter = 100, \n",
    "                           #param_distributions=param, random_state=1234) \n",
    "rs_cv = GridSearchCV(estimator=classifier_logit_2, cv = 10,param_grid=param) \n",
    "\n",
    "rs_cv.fit(training_set,train_taget) \n",
    "\n",
    "print('Best parameter :{} Best score :{}'.format(rs_cv.best_params_,rs_cv.best_score_))\n"
   ]
  },
  {
   "cell_type": "code",
   "execution_count": 45,
   "metadata": {},
   "outputs": [
    {
     "data": {
      "text/plain": [
       "LogisticRegression(C=3, class_weight='balanced', dual=False,\n",
       "          fit_intercept=True, intercept_scaling=1, max_iter=100,\n",
       "          multi_class='ovr', n_jobs=1, penalty='l2', random_state=None,\n",
       "          solver='liblinear', tol=0.0001, verbose=0, warm_start=False)"
      ]
     },
     "execution_count": 45,
     "metadata": {},
     "output_type": "execute_result"
    }
   ],
   "source": [
    "classifier_logit_2.set_params(C = 3)"
   ]
  },
  {
   "cell_type": "code",
   "execution_count": 46,
   "metadata": {},
   "outputs": [
    {
     "data": {
      "text/plain": [
       "LogisticRegression(C=3, class_weight='balanced', dual=False,\n",
       "          fit_intercept=True, intercept_scaling=1, max_iter=100,\n",
       "          multi_class='ovr', n_jobs=1, penalty='l2', random_state=None,\n",
       "          solver='liblinear', tol=0.0001, verbose=0, warm_start=False)"
      ]
     },
     "execution_count": 46,
     "metadata": {},
     "output_type": "execute_result"
    }
   ],
   "source": [
    "classifier_logit_2.fit(training_set, train_taget)"
   ]
  },
  {
   "cell_type": "code",
   "execution_count": 47,
   "metadata": {},
   "outputs": [],
   "source": [
    "validation_prediction_tuned = classifier_logit_2.predict(validation_set)"
   ]
  },
  {
   "cell_type": "code",
   "execution_count": 48,
   "metadata": {},
   "outputs": [],
   "source": [
    "# confusion matrix for validation set\n",
    "validation_logit_crosstb1 = pd.crosstab(index = validation_target,\n",
    "                           columns = validation_prediction_tuned)\n",
    "validation_logit_crosstb1 = validation_logit_crosstb1.rename(columns= {0: 'False', 1: 'True'})\n",
    "validation_logit_crosstb1.index = ['False', 'True']\n",
    "validation_logit_crosstb1.columns.name = 'n = 1000'"
   ]
  },
  {
   "cell_type": "code",
   "execution_count": 49,
   "metadata": {},
   "outputs": [
    {
     "data": {
      "text/html": [
       "<div>\n",
       "<style scoped>\n",
       "    .dataframe tbody tr th:only-of-type {\n",
       "        vertical-align: middle;\n",
       "    }\n",
       "\n",
       "    .dataframe tbody tr th {\n",
       "        vertical-align: top;\n",
       "    }\n",
       "\n",
       "    .dataframe thead th {\n",
       "        text-align: right;\n",
       "    }\n",
       "</style>\n",
       "<table border=\"1\" class=\"dataframe\">\n",
       "  <thead>\n",
       "    <tr style=\"text-align: right;\">\n",
       "      <th>n = 1000</th>\n",
       "      <th>False</th>\n",
       "      <th>True</th>\n",
       "    </tr>\n",
       "  </thead>\n",
       "  <tbody>\n",
       "    <tr>\n",
       "      <th>False</th>\n",
       "      <td>641</td>\n",
       "      <td>209</td>\n",
       "    </tr>\n",
       "    <tr>\n",
       "      <th>True</th>\n",
       "      <td>35</td>\n",
       "      <td>115</td>\n",
       "    </tr>\n",
       "  </tbody>\n",
       "</table>\n",
       "</div>"
      ],
      "text/plain": [
       "n = 1000  False  True\n",
       "False       641   209\n",
       "True         35   115"
      ]
     },
     "execution_count": 49,
     "metadata": {},
     "output_type": "execute_result"
    }
   ],
   "source": [
    "validation_logit_crosstb1"
   ]
  },
  {
   "cell_type": "code",
   "execution_count": 50,
   "metadata": {},
   "outputs": [
    {
     "name": "stdout",
     "output_type": "stream",
     "text": [
      "             precision    recall  f1-score   support\n",
      "\n",
      "          0       0.75      0.95      0.84       676\n",
      "          1       0.77      0.35      0.49       324\n",
      "\n",
      "avg / total       0.76      0.76      0.73      1000\n",
      "\n"
     ]
    }
   ],
   "source": [
    "#classification report on validation set with hypertuning\n",
    "target_names =[0,1]\n",
    "\n",
    "validation_report_tuning = classification_report(validation_prediction_tuned, validation_target,  target_names )\n",
    "print(validation_report_tuning)"
   ]
  },
  {
   "cell_type": "markdown",
   "metadata": {},
   "source": [
    "### Prediction and performance on test data\n",
    "\n",
    "Model classifier_logit_2 was selected."
   ]
  },
  {
   "cell_type": "code",
   "execution_count": 51,
   "metadata": {},
   "outputs": [],
   "source": [
    "# test set\n",
    "test_set = test_data.iloc[:,test_data.columns != 'churn']\n",
    "# selecting target class for test set\n",
    "test_set_target = test_data.iloc[:,test_data.columns == 'churn']\n",
    "\n",
    "\n",
    "# Predicting the test set results\n",
    "test_prediction = classifier_logit_2.predict(test_set)"
   ]
  },
  {
   "cell_type": "code",
   "execution_count": 52,
   "metadata": {},
   "outputs": [],
   "source": [
    "# confusion matrix for validation set\n",
    "test_logit_crosstb = pd.crosstab(index = test_data.churn,\n",
    "                           columns = test_prediction)\n",
    "test_logit_crosstb = test_logit_crosstb.rename(columns= {0: 'False', 1: 'True'})\n",
    "test_logit_crosstb.index = ['False', 'True']\n",
    "test_logit_crosstb.columns.name = 'n = onservation'"
   ]
  },
  {
   "cell_type": "code",
   "execution_count": 53,
   "metadata": {},
   "outputs": [],
   "source": [
    "cm = ConfusionMatrix(test_data.churn, test_prediction)\n"
   ]
  },
  {
   "cell_type": "code",
   "execution_count": 61,
   "metadata": {},
   "outputs": [
    {
     "data": {
      "text/plain": [
       "Predicted  False  True  __all__\n",
       "Actual                         \n",
       "False       1096   347     1443\n",
       "True          39   185      224\n",
       "__all__     1135   532     1667"
      ]
     },
     "execution_count": 61,
     "metadata": {},
     "output_type": "execute_result"
    }
   ],
   "source": [
    "cm\n"
   ]
  },
  {
   "cell_type": "code",
   "execution_count": 60,
   "metadata": {},
   "outputs": [
    {
     "name": "stdout",
     "output_type": "stream",
     "text": [
      "population: 1667\n",
      "P: 224\n",
      "N: 1443\n",
      "PositiveTest: 532\n",
      "NegativeTest: 1135\n",
      "TP: 185\n",
      "TN: 1096\n",
      "FP: 347\n",
      "FN: 39\n",
      "TPR: 0.825892857143\n",
      "TNR: 0.759528759529\n",
      "PPV: 0.347744360902\n",
      "NPV: 0.96563876652\n",
      "FPR: 0.240471240471\n",
      "FDR: 0.652255639098\n",
      "FNR: 0.174107142857\n",
      "ACC: 0.768446310738\n",
      "F1_score: 0.489417989418\n",
      "MCC: 0.428323776007\n",
      "informedness: 0.585421616672\n",
      "markedness: 0.313383127422\n",
      "prevalence: 0.134373125375\n",
      "LRP: 3.43447663648\n",
      "LRN: 0.22923048097\n",
      "DOR: 14.9826350403\n",
      "FOR: 0.0343612334802\n"
     ]
    }
   ],
   "source": [
    "cm.print_stats()"
   ]
  },
  {
   "cell_type": "code",
   "execution_count": 55,
   "metadata": {},
   "outputs": [
    {
     "name": "stdout",
     "output_type": "stream",
     "text": [
      "             precision    recall  f1-score   support\n",
      "\n",
      "          0       0.76      0.97      0.85      1135\n",
      "          1       0.83      0.35      0.49       532\n",
      "\n",
      "avg / total       0.78      0.77      0.74      1667\n",
      "\n"
     ]
    }
   ],
   "source": [
    "#classification report on test set with hypertuning\n",
    "target_names =[0,1]\n",
    "\n",
    "test_report_tuning = classification_report(test_prediction, test_data.churn,  target_names )\n",
    "print(test_report_tuning)"
   ]
  },
  {
   "cell_type": "code",
   "execution_count": 56,
   "metadata": {},
   "outputs": [
    {
     "name": "stdout",
     "output_type": "stream",
     "text": [
      " Mean accuracy on test set 0.768446310738\n"
     ]
    }
   ],
   "source": [
    "mean_accuracy_test = classifier_logit_2.score(test_set, test_set_target)\n",
    "print(' Mean accuracy on test set',mean_accuracy_test)"
   ]
  },
  {
   "cell_type": "code",
   "execution_count": 57,
   "metadata": {},
   "outputs": [
    {
     "name": "stdout",
     "output_type": "stream",
     "text": [
      " Test error rate on test set 0.143\n"
     ]
    }
   ],
   "source": [
    "# calculating test error rate on test set\n",
    "test_error_rate_testset = 1 - mean_accuracy_test\n",
    "print(' Test error rate on test set',test_error_rate)"
   ]
  },
  {
   "cell_type": "code",
   "execution_count": 63,
   "metadata": {},
   "outputs": [
    {
     "data": {
      "text/plain": [
       "0    1443\n",
       "1     224\n",
       "Name: churn, dtype: int64"
      ]
     },
     "execution_count": 63,
     "metadata": {},
     "output_type": "execute_result"
    }
   ],
   "source": [
    "test_set_target.churn.value_counts()"
   ]
  },
  {
   "cell_type": "code",
   "execution_count": 65,
   "metadata": {},
   "outputs": [],
   "source": [
    "# Model input and output\n",
    "test_set.to_csv('inputLogisticRegressionPython.csv', encoding = 'utf-8', index = False)\n",
    "pd.DataFrame(train_taget).to_csv('targetLogisticRegressionPython.csv', index = False)\n",
    "pd.DataFrame(test_prediction, columns=['predictions']).to_csv('outputLogisticRegressionPython.csv')\n"
   ]
  }
 ],
 "metadata": {
  "kernelspec": {
   "display_name": "Python 3",
   "language": "python",
   "name": "python3"
  },
  "language_info": {
   "codemirror_mode": {
    "name": "ipython",
    "version": 3
   },
   "file_extension": ".py",
   "mimetype": "text/x-python",
   "name": "python",
   "nbconvert_exporter": "python",
   "pygments_lexer": "ipython3",
   "version": "3.6.5"
  }
 },
 "nbformat": 4,
 "nbformat_minor": 2
}
